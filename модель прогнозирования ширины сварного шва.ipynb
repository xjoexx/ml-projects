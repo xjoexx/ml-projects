{
  "nbformat": 4,
  "nbformat_minor": 0,
  "metadata": {
    "colab": {
      "provenance": [],
      "toc_visible": true,
      "collapsed_sections": [
        "ftG0ujUmcNsT",
        "klvYngScHje2",
        "l-zhMYI_QF22",
        "WHwtvQfLmkqP"
      ],
      "authorship_tag": "ABX9TyOA6bir6WFdo8Hymx76nuUV",
      "include_colab_link": true
    },
    "kernelspec": {
      "name": "python3",
      "display_name": "Python 3"
    },
    "language_info": {
      "name": "python"
    }
  },
  "cells": [
    {
      "cell_type": "markdown",
      "metadata": {
        "id": "view-in-github",
        "colab_type": "text"
      },
      "source": [
        "<a href=\"https://colab.research.google.com/github/xjoexx/ml-projects/blob/main/%D0%BC%D0%BE%D0%B4%D0%B5%D0%BB%D1%8C%20%D0%BF%D1%80%D0%BE%D0%B3%D0%BD%D0%BE%D0%B7%D0%B8%D1%80%D0%BE%D0%B2%D0%B0%D0%BD%D0%B8%D1%8F%20%D1%88%D0%B8%D1%80%D0%B8%D0%BD%D1%8B%20%D1%81%D0%B2%D0%B0%D1%80%D0%BD%D0%BE%D0%B3%D0%BE%20%D1%88%D0%B2%D0%B0.ipynb\" target=\"_parent\"><img src=\"https://colab.research.google.com/assets/colab-badge.svg\" alt=\"Open In Colab\"/></a>"
      ]
    },
    {
      "cell_type": "markdown",
      "source": [
        "## Задание"
      ],
      "metadata": {
        "id": "BRThsmMj17mw"
      }
    },
    {
      "cell_type": "markdown",
      "source": [
        "«Прогнозирование размеров сварного шва при электронно-лучевой сварке тонкостенных конструкций аэрокосмического назначения»\n",
        "\n",
        "\n",
        "В качестве исходных данных были взяты результаты экспериментальных исследований, проводимых в целях улучшения технологического процесса электронно-лучевой сварки изделия, сборка которого состоит из элементов, состоящих из разнородного материала. Установка электронно-лучевой сварки, на которой проводились исследования, предназначена для сварки электронным лучом в глубоком вакууме деталей сборочных единиц из нержавеющих сталей, титановых, алюминиевых и специальных сплавов. Существующая установка электронно-лучевой сварки обеспечивает повторяемость режимов в рамках возможностей реализованной системы управления. Работы по сварке выполнялись на образцах-имитаторах, соответствующих технологическому изделию. Для уменьшения вложения энергии при сварке:\n",
        "1.\tСнижалась величина сварочного тока (IW);\n",
        "2.\tУвеличивался ток фокусировки электронного пучка (IF);\n",
        "3.\tУвеличивалась скорость сварки (VW);\n",
        "4.\tМенялось расстояние от поверхности образцов до электронно-оптической системы (FP). \n",
        "\n",
        "По совокупности параметров технологических режимов обеспечивались минимально возможные размеры сварных швов: глубина шва (Depth) и ширина шва (Width).\n",
        "В процессе выполнения работ была произведена электронно-лучевая сварка 18-ти единиц образцов. Результаты металлографического контроля по размерам сварного шва для каждого образца проводились в 4-х поперечных сечениях сварного шва. Ускоряющее напряжение было постоянным в диапазоне 19,8 – 20 кВ. Набор полученных данных собраны в составе режимов сварки, размеров сварочных швов в поперечных сечениях всех образцов.\n",
        "\n",
        "*   Требуется: провести прогнозирование глубины (Depth) и ширины (Width) сварного шва в зависимости от параметров технологического процесса (IW, IF, VW, FP).\n",
        "\n",
        "**Описание данных**\n",
        "\n",
        "В качестве данных использован датасет описывающий результаты экспериментальных исследований\n",
        "\n",
        "*   ebw_data.csv\n",
        "\n",
        "\n",
        "\n"
      ],
      "metadata": {
        "id": "b4cdnSVN2K9M"
      }
    },
    {
      "cell_type": "markdown",
      "source": [
        "##Загрузка библиотек\n"
      ],
      "metadata": {
        "id": "D-XXAixK126m"
      }
    },
    {
      "cell_type": "code",
      "execution_count": null,
      "metadata": {
        "id": "Luvc1-CD0HxL"
      },
      "outputs": [],
      "source": [
        "#общие\n",
        "import pandas as pd\n",
        "import numpy as np\n",
        "import matplotlib.pyplot as plt\n",
        "import seaborn as sns\n",
        "import pickle\n",
        "\n",
        "#ML regression\n",
        "from sklearn.linear_model import LinearRegression #линейная регрессия\n",
        "from sklearn.model_selection import train_test_split, GridSearchCV\n",
        "from sklearn.preprocessing import StandardScaler, MinMaxScaler\n",
        "from statsmodels.graphics.gofplots import qqplot\n",
        "from sklearn.manifold import TSNE\n",
        "from sklearn.cluster import KMeans\n",
        "from sklearn.neighbors import KNeighborsRegressor #регрессия на основе метода ближайших соседей\n",
        "from sklearn.ensemble import GradientBoostingRegressor, StackingRegressor, RandomForestRegressor\n",
        "\n",
        "#metrics\n",
        "from sklearn.metrics import mean_absolute_error, mean_absolute_percentage_error, mean_squared_error, r2_score\n",
        "%matplotlib inline\n",
        "sns.set_style('darkgrid')\n",
        "import warnings\n",
        "warnings.filterwarnings('ignore')"
      ]
    },
    {
      "cell_type": "code",
      "source": [
        "from google.colab import drive\n",
        "drive.mount('/content/drive')"
      ],
      "metadata": {
        "colab": {
          "base_uri": "https://localhost:8080/"
        },
        "id": "hiD2wVfm2Yb2",
        "outputId": "398dcf5f-b620-4ab7-bc37-e0a153ecbee0"
      },
      "execution_count": null,
      "outputs": [
        {
          "output_type": "stream",
          "name": "stdout",
          "text": [
            "Mounted at /content/drive\n"
          ]
        }
      ]
    },
    {
      "cell_type": "markdown",
      "source": [
        "##Загрузка данных"
      ],
      "metadata": {
        "id": "MEi-nnIs4B2j"
      }
    },
    {
      "cell_type": "code",
      "source": [
        "path = '/content/drive/MyDrive/!МГТУ им. Баумана/Итоговая работа/Датасет по 3 кейсу/ebw_data.csv'"
      ],
      "metadata": {
        "id": "eJYdAfvn2-NR"
      },
      "execution_count": null,
      "outputs": []
    },
    {
      "cell_type": "code",
      "source": [
        "data = pd.read_csv(path)"
      ],
      "metadata": {
        "id": "hnyiehQI20mx"
      },
      "execution_count": null,
      "outputs": []
    },
    {
      "cell_type": "code",
      "source": [
        "data.head()"
      ],
      "metadata": {
        "colab": {
          "base_uri": "https://localhost:8080/",
          "height": 206
        },
        "id": "y5_U1MAF3C6r",
        "outputId": "17a099b2-badf-497a-e499-1891edee3bd7"
      },
      "execution_count": null,
      "outputs": [
        {
          "output_type": "execute_result",
          "data": {
            "text/plain": [
              "   IW   IF   VW  FP  Depth  Width\n",
              "0  47  139  4.5  80   1.60   2.54\n",
              "1  47  139  4.5  80   1.62   2.50\n",
              "2  47  139  4.5  80   1.68   2.60\n",
              "3  47  139  4.5  80   1.58   2.52\n",
              "4  45  140  4.5  80   1.76   2.48"
            ],
            "text/html": [
              "\n",
              "  <div id=\"df-a7b25588-624f-40c1-8aa7-5c77a2e282e4\">\n",
              "    <div class=\"colab-df-container\">\n",
              "      <div>\n",
              "<style scoped>\n",
              "    .dataframe tbody tr th:only-of-type {\n",
              "        vertical-align: middle;\n",
              "    }\n",
              "\n",
              "    .dataframe tbody tr th {\n",
              "        vertical-align: top;\n",
              "    }\n",
              "\n",
              "    .dataframe thead th {\n",
              "        text-align: right;\n",
              "    }\n",
              "</style>\n",
              "<table border=\"1\" class=\"dataframe\">\n",
              "  <thead>\n",
              "    <tr style=\"text-align: right;\">\n",
              "      <th></th>\n",
              "      <th>IW</th>\n",
              "      <th>IF</th>\n",
              "      <th>VW</th>\n",
              "      <th>FP</th>\n",
              "      <th>Depth</th>\n",
              "      <th>Width</th>\n",
              "    </tr>\n",
              "  </thead>\n",
              "  <tbody>\n",
              "    <tr>\n",
              "      <th>0</th>\n",
              "      <td>47</td>\n",
              "      <td>139</td>\n",
              "      <td>4.5</td>\n",
              "      <td>80</td>\n",
              "      <td>1.60</td>\n",
              "      <td>2.54</td>\n",
              "    </tr>\n",
              "    <tr>\n",
              "      <th>1</th>\n",
              "      <td>47</td>\n",
              "      <td>139</td>\n",
              "      <td>4.5</td>\n",
              "      <td>80</td>\n",
              "      <td>1.62</td>\n",
              "      <td>2.50</td>\n",
              "    </tr>\n",
              "    <tr>\n",
              "      <th>2</th>\n",
              "      <td>47</td>\n",
              "      <td>139</td>\n",
              "      <td>4.5</td>\n",
              "      <td>80</td>\n",
              "      <td>1.68</td>\n",
              "      <td>2.60</td>\n",
              "    </tr>\n",
              "    <tr>\n",
              "      <th>3</th>\n",
              "      <td>47</td>\n",
              "      <td>139</td>\n",
              "      <td>4.5</td>\n",
              "      <td>80</td>\n",
              "      <td>1.58</td>\n",
              "      <td>2.52</td>\n",
              "    </tr>\n",
              "    <tr>\n",
              "      <th>4</th>\n",
              "      <td>45</td>\n",
              "      <td>140</td>\n",
              "      <td>4.5</td>\n",
              "      <td>80</td>\n",
              "      <td>1.76</td>\n",
              "      <td>2.48</td>\n",
              "    </tr>\n",
              "  </tbody>\n",
              "</table>\n",
              "</div>\n",
              "      <button class=\"colab-df-convert\" onclick=\"convertToInteractive('df-a7b25588-624f-40c1-8aa7-5c77a2e282e4')\"\n",
              "              title=\"Convert this dataframe to an interactive table.\"\n",
              "              style=\"display:none;\">\n",
              "        \n",
              "  <svg xmlns=\"http://www.w3.org/2000/svg\" height=\"24px\"viewBox=\"0 0 24 24\"\n",
              "       width=\"24px\">\n",
              "    <path d=\"M0 0h24v24H0V0z\" fill=\"none\"/>\n",
              "    <path d=\"M18.56 5.44l.94 2.06.94-2.06 2.06-.94-2.06-.94-.94-2.06-.94 2.06-2.06.94zm-11 1L8.5 8.5l.94-2.06 2.06-.94-2.06-.94L8.5 2.5l-.94 2.06-2.06.94zm10 10l.94 2.06.94-2.06 2.06-.94-2.06-.94-.94-2.06-.94 2.06-2.06.94z\"/><path d=\"M17.41 7.96l-1.37-1.37c-.4-.4-.92-.59-1.43-.59-.52 0-1.04.2-1.43.59L10.3 9.45l-7.72 7.72c-.78.78-.78 2.05 0 2.83L4 21.41c.39.39.9.59 1.41.59.51 0 1.02-.2 1.41-.59l7.78-7.78 2.81-2.81c.8-.78.8-2.07 0-2.86zM5.41 20L4 18.59l7.72-7.72 1.47 1.35L5.41 20z\"/>\n",
              "  </svg>\n",
              "      </button>\n",
              "      \n",
              "  <style>\n",
              "    .colab-df-container {\n",
              "      display:flex;\n",
              "      flex-wrap:wrap;\n",
              "      gap: 12px;\n",
              "    }\n",
              "\n",
              "    .colab-df-convert {\n",
              "      background-color: #E8F0FE;\n",
              "      border: none;\n",
              "      border-radius: 50%;\n",
              "      cursor: pointer;\n",
              "      display: none;\n",
              "      fill: #1967D2;\n",
              "      height: 32px;\n",
              "      padding: 0 0 0 0;\n",
              "      width: 32px;\n",
              "    }\n",
              "\n",
              "    .colab-df-convert:hover {\n",
              "      background-color: #E2EBFA;\n",
              "      box-shadow: 0px 1px 2px rgba(60, 64, 67, 0.3), 0px 1px 3px 1px rgba(60, 64, 67, 0.15);\n",
              "      fill: #174EA6;\n",
              "    }\n",
              "\n",
              "    [theme=dark] .colab-df-convert {\n",
              "      background-color: #3B4455;\n",
              "      fill: #D2E3FC;\n",
              "    }\n",
              "\n",
              "    [theme=dark] .colab-df-convert:hover {\n",
              "      background-color: #434B5C;\n",
              "      box-shadow: 0px 1px 3px 1px rgba(0, 0, 0, 0.15);\n",
              "      filter: drop-shadow(0px 1px 2px rgba(0, 0, 0, 0.3));\n",
              "      fill: #FFFFFF;\n",
              "    }\n",
              "  </style>\n",
              "\n",
              "      <script>\n",
              "        const buttonEl =\n",
              "          document.querySelector('#df-a7b25588-624f-40c1-8aa7-5c77a2e282e4 button.colab-df-convert');\n",
              "        buttonEl.style.display =\n",
              "          google.colab.kernel.accessAllowed ? 'block' : 'none';\n",
              "\n",
              "        async function convertToInteractive(key) {\n",
              "          const element = document.querySelector('#df-a7b25588-624f-40c1-8aa7-5c77a2e282e4');\n",
              "          const dataTable =\n",
              "            await google.colab.kernel.invokeFunction('convertToInteractive',\n",
              "                                                     [key], {});\n",
              "          if (!dataTable) return;\n",
              "\n",
              "          const docLinkHtml = 'Like what you see? Visit the ' +\n",
              "            '<a target=\"_blank\" href=https://colab.research.google.com/notebooks/data_table.ipynb>data table notebook</a>'\n",
              "            + ' to learn more about interactive tables.';\n",
              "          element.innerHTML = '';\n",
              "          dataTable['output_type'] = 'display_data';\n",
              "          await google.colab.output.renderOutput(dataTable, element);\n",
              "          const docLink = document.createElement('div');\n",
              "          docLink.innerHTML = docLinkHtml;\n",
              "          element.appendChild(docLink);\n",
              "        }\n",
              "      </script>\n",
              "    </div>\n",
              "  </div>\n",
              "  "
            ]
          },
          "metadata": {},
          "execution_count": 5
        }
      ]
    },
    {
      "cell_type": "markdown",
      "source": [
        "##Кластеризуем данные по технологическим параметрам"
      ],
      "metadata": {
        "id": "LBxZcRQfN6NW"
      }
    },
    {
      "cell_type": "code",
      "source": [
        "#воспользуемся методом кластеризации kMeans\n",
        "#создадим выборку технологических параметров по которым будем кластеризовать данные\n",
        "data_for_cluster = data[['IW','IF','VW','FP']]"
      ],
      "metadata": {
        "id": "jHM3F2-COWXB"
      },
      "execution_count": null,
      "outputs": []
    },
    {
      "cell_type": "code",
      "source": [
        "#зададим кол-во кластеров 18\n",
        "km = KMeans(n_clusters = 18, random_state = 42)\n",
        "km = km.fit(data_for_cluster)\n",
        "#посмотрим полученные значения кластеров\n",
        "km.labels_"
      ],
      "metadata": {
        "colab": {
          "base_uri": "https://localhost:8080/"
        },
        "id": "kXj2PZGCN9VY",
        "outputId": "9a320349-0fcb-4311-bb7d-5c43a211018c"
      },
      "execution_count": null,
      "outputs": [
        {
          "output_type": "execute_result",
          "data": {
            "text/plain": [
              "array([ 7,  7,  7,  7,  5,  5,  5,  5, 10, 10, 10, 10,  6,  6,  6,  6, 12,\n",
              "       12, 12, 12, 11, 11, 11, 11,  4,  4,  4,  4,  7,  7,  7,  7,  1,  1,\n",
              "        1,  1,  8,  8,  8,  8,  2,  2,  2,  2,  9,  9,  9,  9,  0,  0,  0,\n",
              "        0,  3,  3,  3,  3,  0,  0,  0,  0, 14, 14, 14, 14,  0,  0,  0,  0,\n",
              "       13, 13, 13, 13], dtype=int32)"
            ]
          },
          "metadata": {},
          "execution_count": 7
        }
      ]
    },
    {
      "cell_type": "code",
      "source": [
        "group_data = data.copy()\n",
        "#добавим колонку с номером кластера в данные\n",
        "group_data['cluster'] = km.labels_"
      ],
      "metadata": {
        "id": "w7yu1jrBPyT0"
      },
      "execution_count": null,
      "outputs": []
    },
    {
      "cell_type": "code",
      "source": [
        "#посмотрим пример сгруппированных данных\n",
        "group_data[group_data['cluster']==0]"
      ],
      "metadata": {
        "colab": {
          "base_uri": "https://localhost:8080/",
          "height": 426
        },
        "id": "EiOp0WS7TR9H",
        "outputId": "a714a297-c0eb-4d4c-e576-6c1a863ef053"
      },
      "execution_count": null,
      "outputs": [
        {
          "output_type": "execute_result",
          "data": {
            "text/plain": [
              "    IW   IF   VW  FP  Depth  Width  cluster\n",
              "48  44  146  9.0  60   1.28   1.80        0\n",
              "49  44  146  9.0  60   1.32   1.84        0\n",
              "50  44  146  9.0  60   1.24   1.80        0\n",
              "51  44  146  9.0  60   1.32   1.96        0\n",
              "56  44  146  9.0  60   1.20   1.76        0\n",
              "57  44  146  9.0  60   1.20   1.86        0\n",
              "58  44  146  9.0  60   1.20   1.88        0\n",
              "59  44  146  9.0  60   1.20   1.76        0\n",
              "64  44  146  9.0  60   1.16   1.76        0\n",
              "65  44  146  9.0  60   1.20   1.68        0\n",
              "66  44  146  9.0  60   1.24   1.72        0\n",
              "67  44  146  9.0  60   1.20   1.72        0"
            ],
            "text/html": [
              "\n",
              "  <div id=\"df-c3401db1-5d6d-427b-aa42-ac6f4fe3d7be\">\n",
              "    <div class=\"colab-df-container\">\n",
              "      <div>\n",
              "<style scoped>\n",
              "    .dataframe tbody tr th:only-of-type {\n",
              "        vertical-align: middle;\n",
              "    }\n",
              "\n",
              "    .dataframe tbody tr th {\n",
              "        vertical-align: top;\n",
              "    }\n",
              "\n",
              "    .dataframe thead th {\n",
              "        text-align: right;\n",
              "    }\n",
              "</style>\n",
              "<table border=\"1\" class=\"dataframe\">\n",
              "  <thead>\n",
              "    <tr style=\"text-align: right;\">\n",
              "      <th></th>\n",
              "      <th>IW</th>\n",
              "      <th>IF</th>\n",
              "      <th>VW</th>\n",
              "      <th>FP</th>\n",
              "      <th>Depth</th>\n",
              "      <th>Width</th>\n",
              "      <th>cluster</th>\n",
              "    </tr>\n",
              "  </thead>\n",
              "  <tbody>\n",
              "    <tr>\n",
              "      <th>48</th>\n",
              "      <td>44</td>\n",
              "      <td>146</td>\n",
              "      <td>9.0</td>\n",
              "      <td>60</td>\n",
              "      <td>1.28</td>\n",
              "      <td>1.80</td>\n",
              "      <td>0</td>\n",
              "    </tr>\n",
              "    <tr>\n",
              "      <th>49</th>\n",
              "      <td>44</td>\n",
              "      <td>146</td>\n",
              "      <td>9.0</td>\n",
              "      <td>60</td>\n",
              "      <td>1.32</td>\n",
              "      <td>1.84</td>\n",
              "      <td>0</td>\n",
              "    </tr>\n",
              "    <tr>\n",
              "      <th>50</th>\n",
              "      <td>44</td>\n",
              "      <td>146</td>\n",
              "      <td>9.0</td>\n",
              "      <td>60</td>\n",
              "      <td>1.24</td>\n",
              "      <td>1.80</td>\n",
              "      <td>0</td>\n",
              "    </tr>\n",
              "    <tr>\n",
              "      <th>51</th>\n",
              "      <td>44</td>\n",
              "      <td>146</td>\n",
              "      <td>9.0</td>\n",
              "      <td>60</td>\n",
              "      <td>1.32</td>\n",
              "      <td>1.96</td>\n",
              "      <td>0</td>\n",
              "    </tr>\n",
              "    <tr>\n",
              "      <th>56</th>\n",
              "      <td>44</td>\n",
              "      <td>146</td>\n",
              "      <td>9.0</td>\n",
              "      <td>60</td>\n",
              "      <td>1.20</td>\n",
              "      <td>1.76</td>\n",
              "      <td>0</td>\n",
              "    </tr>\n",
              "    <tr>\n",
              "      <th>57</th>\n",
              "      <td>44</td>\n",
              "      <td>146</td>\n",
              "      <td>9.0</td>\n",
              "      <td>60</td>\n",
              "      <td>1.20</td>\n",
              "      <td>1.86</td>\n",
              "      <td>0</td>\n",
              "    </tr>\n",
              "    <tr>\n",
              "      <th>58</th>\n",
              "      <td>44</td>\n",
              "      <td>146</td>\n",
              "      <td>9.0</td>\n",
              "      <td>60</td>\n",
              "      <td>1.20</td>\n",
              "      <td>1.88</td>\n",
              "      <td>0</td>\n",
              "    </tr>\n",
              "    <tr>\n",
              "      <th>59</th>\n",
              "      <td>44</td>\n",
              "      <td>146</td>\n",
              "      <td>9.0</td>\n",
              "      <td>60</td>\n",
              "      <td>1.20</td>\n",
              "      <td>1.76</td>\n",
              "      <td>0</td>\n",
              "    </tr>\n",
              "    <tr>\n",
              "      <th>64</th>\n",
              "      <td>44</td>\n",
              "      <td>146</td>\n",
              "      <td>9.0</td>\n",
              "      <td>60</td>\n",
              "      <td>1.16</td>\n",
              "      <td>1.76</td>\n",
              "      <td>0</td>\n",
              "    </tr>\n",
              "    <tr>\n",
              "      <th>65</th>\n",
              "      <td>44</td>\n",
              "      <td>146</td>\n",
              "      <td>9.0</td>\n",
              "      <td>60</td>\n",
              "      <td>1.20</td>\n",
              "      <td>1.68</td>\n",
              "      <td>0</td>\n",
              "    </tr>\n",
              "    <tr>\n",
              "      <th>66</th>\n",
              "      <td>44</td>\n",
              "      <td>146</td>\n",
              "      <td>9.0</td>\n",
              "      <td>60</td>\n",
              "      <td>1.24</td>\n",
              "      <td>1.72</td>\n",
              "      <td>0</td>\n",
              "    </tr>\n",
              "    <tr>\n",
              "      <th>67</th>\n",
              "      <td>44</td>\n",
              "      <td>146</td>\n",
              "      <td>9.0</td>\n",
              "      <td>60</td>\n",
              "      <td>1.20</td>\n",
              "      <td>1.72</td>\n",
              "      <td>0</td>\n",
              "    </tr>\n",
              "  </tbody>\n",
              "</table>\n",
              "</div>\n",
              "      <button class=\"colab-df-convert\" onclick=\"convertToInteractive('df-c3401db1-5d6d-427b-aa42-ac6f4fe3d7be')\"\n",
              "              title=\"Convert this dataframe to an interactive table.\"\n",
              "              style=\"display:none;\">\n",
              "        \n",
              "  <svg xmlns=\"http://www.w3.org/2000/svg\" height=\"24px\"viewBox=\"0 0 24 24\"\n",
              "       width=\"24px\">\n",
              "    <path d=\"M0 0h24v24H0V0z\" fill=\"none\"/>\n",
              "    <path d=\"M18.56 5.44l.94 2.06.94-2.06 2.06-.94-2.06-.94-.94-2.06-.94 2.06-2.06.94zm-11 1L8.5 8.5l.94-2.06 2.06-.94-2.06-.94L8.5 2.5l-.94 2.06-2.06.94zm10 10l.94 2.06.94-2.06 2.06-.94-2.06-.94-.94-2.06-.94 2.06-2.06.94z\"/><path d=\"M17.41 7.96l-1.37-1.37c-.4-.4-.92-.59-1.43-.59-.52 0-1.04.2-1.43.59L10.3 9.45l-7.72 7.72c-.78.78-.78 2.05 0 2.83L4 21.41c.39.39.9.59 1.41.59.51 0 1.02-.2 1.41-.59l7.78-7.78 2.81-2.81c.8-.78.8-2.07 0-2.86zM5.41 20L4 18.59l7.72-7.72 1.47 1.35L5.41 20z\"/>\n",
              "  </svg>\n",
              "      </button>\n",
              "      \n",
              "  <style>\n",
              "    .colab-df-container {\n",
              "      display:flex;\n",
              "      flex-wrap:wrap;\n",
              "      gap: 12px;\n",
              "    }\n",
              "\n",
              "    .colab-df-convert {\n",
              "      background-color: #E8F0FE;\n",
              "      border: none;\n",
              "      border-radius: 50%;\n",
              "      cursor: pointer;\n",
              "      display: none;\n",
              "      fill: #1967D2;\n",
              "      height: 32px;\n",
              "      padding: 0 0 0 0;\n",
              "      width: 32px;\n",
              "    }\n",
              "\n",
              "    .colab-df-convert:hover {\n",
              "      background-color: #E2EBFA;\n",
              "      box-shadow: 0px 1px 2px rgba(60, 64, 67, 0.3), 0px 1px 3px 1px rgba(60, 64, 67, 0.15);\n",
              "      fill: #174EA6;\n",
              "    }\n",
              "\n",
              "    [theme=dark] .colab-df-convert {\n",
              "      background-color: #3B4455;\n",
              "      fill: #D2E3FC;\n",
              "    }\n",
              "\n",
              "    [theme=dark] .colab-df-convert:hover {\n",
              "      background-color: #434B5C;\n",
              "      box-shadow: 0px 1px 3px 1px rgba(0, 0, 0, 0.15);\n",
              "      filter: drop-shadow(0px 1px 2px rgba(0, 0, 0, 0.3));\n",
              "      fill: #FFFFFF;\n",
              "    }\n",
              "  </style>\n",
              "\n",
              "      <script>\n",
              "        const buttonEl =\n",
              "          document.querySelector('#df-c3401db1-5d6d-427b-aa42-ac6f4fe3d7be button.colab-df-convert');\n",
              "        buttonEl.style.display =\n",
              "          google.colab.kernel.accessAllowed ? 'block' : 'none';\n",
              "\n",
              "        async function convertToInteractive(key) {\n",
              "          const element = document.querySelector('#df-c3401db1-5d6d-427b-aa42-ac6f4fe3d7be');\n",
              "          const dataTable =\n",
              "            await google.colab.kernel.invokeFunction('convertToInteractive',\n",
              "                                                     [key], {});\n",
              "          if (!dataTable) return;\n",
              "\n",
              "          const docLinkHtml = 'Like what you see? Visit the ' +\n",
              "            '<a target=\"_blank\" href=https://colab.research.google.com/notebooks/data_table.ipynb>data table notebook</a>'\n",
              "            + ' to learn more about interactive tables.';\n",
              "          element.innerHTML = '';\n",
              "          dataTable['output_type'] = 'display_data';\n",
              "          await google.colab.output.renderOutput(dataTable, element);\n",
              "          const docLink = document.createElement('div');\n",
              "          docLink.innerHTML = docLinkHtml;\n",
              "          element.appendChild(docLink);\n",
              "        }\n",
              "      </script>\n",
              "    </div>\n",
              "  </div>\n",
              "  "
            ]
          },
          "metadata": {},
          "execution_count": 9
        }
      ]
    },
    {
      "cell_type": "code",
      "source": [
        "#смотрим средние значения ширина шва в зависимости от номера образца\n",
        "group_data['Width'].groupby(group_data['cluster']).agg('mean')"
      ],
      "metadata": {
        "colab": {
          "base_uri": "https://localhost:8080/"
        },
        "id": "qNQijT3eXVgF",
        "outputId": "6d878ed4-c3fa-4df8-e518-16294d20d267"
      },
      "execution_count": null,
      "outputs": [
        {
          "output_type": "execute_result",
          "data": {
            "text/plain": [
              "cluster\n",
              "0     1.7950\n",
              "1     2.0700\n",
              "2     1.7900\n",
              "3     1.8150\n",
              "4     1.9350\n",
              "5     2.5100\n",
              "6     1.8600\n",
              "7     2.5150\n",
              "8     2.2600\n",
              "9     1.7700\n",
              "10    1.9700\n",
              "11    1.7275\n",
              "12    1.8200\n",
              "13    1.7600\n",
              "14    1.7650\n",
              "Name: Width, dtype: float64"
            ]
          },
          "metadata": {},
          "execution_count": 10
        }
      ]
    },
    {
      "cell_type": "code",
      "source": [
        "#выведем среднее значения Width и Depth в зависимости от номера образца и добавим его в таблицу с данными\n",
        "group_data = group_data.merge(group_data['Width'].groupby(group_data['cluster']).agg('mean'),how='left',on=['cluster'])\n",
        "group_data = group_data.merge(group_data['Depth'].groupby(group_data['cluster']).agg('mean'),how='left',on=['cluster'])"
      ],
      "metadata": {
        "id": "ojn4Rns1Uyys"
      },
      "execution_count": null,
      "outputs": []
    },
    {
      "cell_type": "code",
      "source": [
        "#переименуем столбцы\n",
        "group_data.rename(columns = {'Width_y': 'Mean Width',\n",
        "                            'Depth_y':'Mean Depth'}, inplace = True)\n",
        "group_data"
      ],
      "metadata": {
        "colab": {
          "base_uri": "https://localhost:8080/",
          "height": 424
        },
        "id": "MVKqmhIMWR_0",
        "outputId": "74ab49e5-111c-43cc-be6e-51dbde2b6472"
      },
      "execution_count": null,
      "outputs": [
        {
          "output_type": "execute_result",
          "data": {
            "text/plain": [
              "    IW   IF   VW  FP  Depth_x  Width_x  cluster  Mean Width  Mean Depth\n",
              "0   47  139  4.5  80     1.60     2.54        7       2.515       1.495\n",
              "1   47  139  4.5  80     1.62     2.50        7       2.515       1.495\n",
              "2   47  139  4.5  80     1.68     2.60        7       2.515       1.495\n",
              "3   47  139  4.5  80     1.58     2.52        7       2.515       1.495\n",
              "4   45  140  4.5  80     1.76     2.48        5       2.510       1.690\n",
              "..  ..  ...  ...  ..      ...      ...      ...         ...         ...\n",
              "67  44  146  9.0  60     1.20     1.72        0       1.795       1.230\n",
              "68  45  146  9.0  60     1.36     1.76       13       1.760       1.310\n",
              "69  45  146  9.0  60     1.28     1.76       13       1.760       1.310\n",
              "70  45  146  9.0  60     1.28     1.76       13       1.760       1.310\n",
              "71  45  146  9.0  60     1.32     1.76       13       1.760       1.310\n",
              "\n",
              "[72 rows x 9 columns]"
            ],
            "text/html": [
              "\n",
              "  <div id=\"df-e27e3844-8541-4503-817f-7bb085223545\">\n",
              "    <div class=\"colab-df-container\">\n",
              "      <div>\n",
              "<style scoped>\n",
              "    .dataframe tbody tr th:only-of-type {\n",
              "        vertical-align: middle;\n",
              "    }\n",
              "\n",
              "    .dataframe tbody tr th {\n",
              "        vertical-align: top;\n",
              "    }\n",
              "\n",
              "    .dataframe thead th {\n",
              "        text-align: right;\n",
              "    }\n",
              "</style>\n",
              "<table border=\"1\" class=\"dataframe\">\n",
              "  <thead>\n",
              "    <tr style=\"text-align: right;\">\n",
              "      <th></th>\n",
              "      <th>IW</th>\n",
              "      <th>IF</th>\n",
              "      <th>VW</th>\n",
              "      <th>FP</th>\n",
              "      <th>Depth_x</th>\n",
              "      <th>Width_x</th>\n",
              "      <th>cluster</th>\n",
              "      <th>Mean Width</th>\n",
              "      <th>Mean Depth</th>\n",
              "    </tr>\n",
              "  </thead>\n",
              "  <tbody>\n",
              "    <tr>\n",
              "      <th>0</th>\n",
              "      <td>47</td>\n",
              "      <td>139</td>\n",
              "      <td>4.5</td>\n",
              "      <td>80</td>\n",
              "      <td>1.60</td>\n",
              "      <td>2.54</td>\n",
              "      <td>7</td>\n",
              "      <td>2.515</td>\n",
              "      <td>1.495</td>\n",
              "    </tr>\n",
              "    <tr>\n",
              "      <th>1</th>\n",
              "      <td>47</td>\n",
              "      <td>139</td>\n",
              "      <td>4.5</td>\n",
              "      <td>80</td>\n",
              "      <td>1.62</td>\n",
              "      <td>2.50</td>\n",
              "      <td>7</td>\n",
              "      <td>2.515</td>\n",
              "      <td>1.495</td>\n",
              "    </tr>\n",
              "    <tr>\n",
              "      <th>2</th>\n",
              "      <td>47</td>\n",
              "      <td>139</td>\n",
              "      <td>4.5</td>\n",
              "      <td>80</td>\n",
              "      <td>1.68</td>\n",
              "      <td>2.60</td>\n",
              "      <td>7</td>\n",
              "      <td>2.515</td>\n",
              "      <td>1.495</td>\n",
              "    </tr>\n",
              "    <tr>\n",
              "      <th>3</th>\n",
              "      <td>47</td>\n",
              "      <td>139</td>\n",
              "      <td>4.5</td>\n",
              "      <td>80</td>\n",
              "      <td>1.58</td>\n",
              "      <td>2.52</td>\n",
              "      <td>7</td>\n",
              "      <td>2.515</td>\n",
              "      <td>1.495</td>\n",
              "    </tr>\n",
              "    <tr>\n",
              "      <th>4</th>\n",
              "      <td>45</td>\n",
              "      <td>140</td>\n",
              "      <td>4.5</td>\n",
              "      <td>80</td>\n",
              "      <td>1.76</td>\n",
              "      <td>2.48</td>\n",
              "      <td>5</td>\n",
              "      <td>2.510</td>\n",
              "      <td>1.690</td>\n",
              "    </tr>\n",
              "    <tr>\n",
              "      <th>...</th>\n",
              "      <td>...</td>\n",
              "      <td>...</td>\n",
              "      <td>...</td>\n",
              "      <td>...</td>\n",
              "      <td>...</td>\n",
              "      <td>...</td>\n",
              "      <td>...</td>\n",
              "      <td>...</td>\n",
              "      <td>...</td>\n",
              "    </tr>\n",
              "    <tr>\n",
              "      <th>67</th>\n",
              "      <td>44</td>\n",
              "      <td>146</td>\n",
              "      <td>9.0</td>\n",
              "      <td>60</td>\n",
              "      <td>1.20</td>\n",
              "      <td>1.72</td>\n",
              "      <td>0</td>\n",
              "      <td>1.795</td>\n",
              "      <td>1.230</td>\n",
              "    </tr>\n",
              "    <tr>\n",
              "      <th>68</th>\n",
              "      <td>45</td>\n",
              "      <td>146</td>\n",
              "      <td>9.0</td>\n",
              "      <td>60</td>\n",
              "      <td>1.36</td>\n",
              "      <td>1.76</td>\n",
              "      <td>13</td>\n",
              "      <td>1.760</td>\n",
              "      <td>1.310</td>\n",
              "    </tr>\n",
              "    <tr>\n",
              "      <th>69</th>\n",
              "      <td>45</td>\n",
              "      <td>146</td>\n",
              "      <td>9.0</td>\n",
              "      <td>60</td>\n",
              "      <td>1.28</td>\n",
              "      <td>1.76</td>\n",
              "      <td>13</td>\n",
              "      <td>1.760</td>\n",
              "      <td>1.310</td>\n",
              "    </tr>\n",
              "    <tr>\n",
              "      <th>70</th>\n",
              "      <td>45</td>\n",
              "      <td>146</td>\n",
              "      <td>9.0</td>\n",
              "      <td>60</td>\n",
              "      <td>1.28</td>\n",
              "      <td>1.76</td>\n",
              "      <td>13</td>\n",
              "      <td>1.760</td>\n",
              "      <td>1.310</td>\n",
              "    </tr>\n",
              "    <tr>\n",
              "      <th>71</th>\n",
              "      <td>45</td>\n",
              "      <td>146</td>\n",
              "      <td>9.0</td>\n",
              "      <td>60</td>\n",
              "      <td>1.32</td>\n",
              "      <td>1.76</td>\n",
              "      <td>13</td>\n",
              "      <td>1.760</td>\n",
              "      <td>1.310</td>\n",
              "    </tr>\n",
              "  </tbody>\n",
              "</table>\n",
              "<p>72 rows × 9 columns</p>\n",
              "</div>\n",
              "      <button class=\"colab-df-convert\" onclick=\"convertToInteractive('df-e27e3844-8541-4503-817f-7bb085223545')\"\n",
              "              title=\"Convert this dataframe to an interactive table.\"\n",
              "              style=\"display:none;\">\n",
              "        \n",
              "  <svg xmlns=\"http://www.w3.org/2000/svg\" height=\"24px\"viewBox=\"0 0 24 24\"\n",
              "       width=\"24px\">\n",
              "    <path d=\"M0 0h24v24H0V0z\" fill=\"none\"/>\n",
              "    <path d=\"M18.56 5.44l.94 2.06.94-2.06 2.06-.94-2.06-.94-.94-2.06-.94 2.06-2.06.94zm-11 1L8.5 8.5l.94-2.06 2.06-.94-2.06-.94L8.5 2.5l-.94 2.06-2.06.94zm10 10l.94 2.06.94-2.06 2.06-.94-2.06-.94-.94-2.06-.94 2.06-2.06.94z\"/><path d=\"M17.41 7.96l-1.37-1.37c-.4-.4-.92-.59-1.43-.59-.52 0-1.04.2-1.43.59L10.3 9.45l-7.72 7.72c-.78.78-.78 2.05 0 2.83L4 21.41c.39.39.9.59 1.41.59.51 0 1.02-.2 1.41-.59l7.78-7.78 2.81-2.81c.8-.78.8-2.07 0-2.86zM5.41 20L4 18.59l7.72-7.72 1.47 1.35L5.41 20z\"/>\n",
              "  </svg>\n",
              "      </button>\n",
              "      \n",
              "  <style>\n",
              "    .colab-df-container {\n",
              "      display:flex;\n",
              "      flex-wrap:wrap;\n",
              "      gap: 12px;\n",
              "    }\n",
              "\n",
              "    .colab-df-convert {\n",
              "      background-color: #E8F0FE;\n",
              "      border: none;\n",
              "      border-radius: 50%;\n",
              "      cursor: pointer;\n",
              "      display: none;\n",
              "      fill: #1967D2;\n",
              "      height: 32px;\n",
              "      padding: 0 0 0 0;\n",
              "      width: 32px;\n",
              "    }\n",
              "\n",
              "    .colab-df-convert:hover {\n",
              "      background-color: #E2EBFA;\n",
              "      box-shadow: 0px 1px 2px rgba(60, 64, 67, 0.3), 0px 1px 3px 1px rgba(60, 64, 67, 0.15);\n",
              "      fill: #174EA6;\n",
              "    }\n",
              "\n",
              "    [theme=dark] .colab-df-convert {\n",
              "      background-color: #3B4455;\n",
              "      fill: #D2E3FC;\n",
              "    }\n",
              "\n",
              "    [theme=dark] .colab-df-convert:hover {\n",
              "      background-color: #434B5C;\n",
              "      box-shadow: 0px 1px 3px 1px rgba(0, 0, 0, 0.15);\n",
              "      filter: drop-shadow(0px 1px 2px rgba(0, 0, 0, 0.3));\n",
              "      fill: #FFFFFF;\n",
              "    }\n",
              "  </style>\n",
              "\n",
              "      <script>\n",
              "        const buttonEl =\n",
              "          document.querySelector('#df-e27e3844-8541-4503-817f-7bb085223545 button.colab-df-convert');\n",
              "        buttonEl.style.display =\n",
              "          google.colab.kernel.accessAllowed ? 'block' : 'none';\n",
              "\n",
              "        async function convertToInteractive(key) {\n",
              "          const element = document.querySelector('#df-e27e3844-8541-4503-817f-7bb085223545');\n",
              "          const dataTable =\n",
              "            await google.colab.kernel.invokeFunction('convertToInteractive',\n",
              "                                                     [key], {});\n",
              "          if (!dataTable) return;\n",
              "\n",
              "          const docLinkHtml = 'Like what you see? Visit the ' +\n",
              "            '<a target=\"_blank\" href=https://colab.research.google.com/notebooks/data_table.ipynb>data table notebook</a>'\n",
              "            + ' to learn more about interactive tables.';\n",
              "          element.innerHTML = '';\n",
              "          dataTable['output_type'] = 'display_data';\n",
              "          await google.colab.output.renderOutput(dataTable, element);\n",
              "          const docLink = document.createElement('div');\n",
              "          docLink.innerHTML = docLinkHtml;\n",
              "          element.appendChild(docLink);\n",
              "        }\n",
              "      </script>\n",
              "    </div>\n",
              "  </div>\n",
              "  "
            ]
          },
          "metadata": {},
          "execution_count": 17
        }
      ]
    },
    {
      "cell_type": "code",
      "source": [
        "#удалим колонки depth_x, depth_y и оставим только уникальные значения в датасете\n",
        "#удалим колонки width, depth и построим матрицу корелляции\n",
        "small_dataset = group_data.drop(['Depth_x',\t'Width_x', 'cluster'],axis = 1)\n",
        "small_dataset = small_dataset.drop_duplicates(keep = 'first')"
      ],
      "metadata": {
        "id": "SuMMLUJXiDQl"
      },
      "execution_count": null,
      "outputs": []
    },
    {
      "cell_type": "code",
      "source": [
        "#посмотрим датасет после удаления повторяющихся значений\n",
        "small_dataset"
      ],
      "metadata": {
        "colab": {
          "base_uri": "https://localhost:8080/",
          "height": 520
        },
        "id": "satl4tz_itPj",
        "outputId": "bb68a0c3-b973-4127-cabc-a03cb6d00b9f"
      },
      "execution_count": null,
      "outputs": [
        {
          "output_type": "execute_result",
          "data": {
            "text/plain": [
              "    IW   IF    VW   FP  Mean Width  Mean Depth\n",
              "0   47  139   4.5   80      2.5150       1.495\n",
              "4   45  140   4.5   80      2.5100       1.690\n",
              "8   45  140   8.0   80      1.9700       1.190\n",
              "12  45  141  10.0   80      1.8600       1.010\n",
              "16  46  141  10.0   80      1.8200       1.140\n",
              "20  47  141  12.0   80      1.7275       1.120\n",
              "24  47  134  10.0  110      1.9350       0.945\n",
              "32  48  131  10.0  125      2.0700       0.845\n",
              "36  49  132   8.0  125      2.2600       0.820\n",
              "40  47  140  10.0   80      1.7900       1.160\n",
              "44  46  146  10.0   60      1.7700       1.310\n",
              "48  44  146   9.0   60      1.7950       1.230\n",
              "52  43  150   9.0   50      1.8150       1.080\n",
              "60  43  146   9.0   60      1.7650       1.220\n",
              "68  45  146   9.0   60      1.7600       1.310"
            ],
            "text/html": [
              "\n",
              "  <div id=\"df-45dd5092-8cd7-403b-9437-0edb7ebb1cb1\">\n",
              "    <div class=\"colab-df-container\">\n",
              "      <div>\n",
              "<style scoped>\n",
              "    .dataframe tbody tr th:only-of-type {\n",
              "        vertical-align: middle;\n",
              "    }\n",
              "\n",
              "    .dataframe tbody tr th {\n",
              "        vertical-align: top;\n",
              "    }\n",
              "\n",
              "    .dataframe thead th {\n",
              "        text-align: right;\n",
              "    }\n",
              "</style>\n",
              "<table border=\"1\" class=\"dataframe\">\n",
              "  <thead>\n",
              "    <tr style=\"text-align: right;\">\n",
              "      <th></th>\n",
              "      <th>IW</th>\n",
              "      <th>IF</th>\n",
              "      <th>VW</th>\n",
              "      <th>FP</th>\n",
              "      <th>Mean Width</th>\n",
              "      <th>Mean Depth</th>\n",
              "    </tr>\n",
              "  </thead>\n",
              "  <tbody>\n",
              "    <tr>\n",
              "      <th>0</th>\n",
              "      <td>47</td>\n",
              "      <td>139</td>\n",
              "      <td>4.5</td>\n",
              "      <td>80</td>\n",
              "      <td>2.5150</td>\n",
              "      <td>1.495</td>\n",
              "    </tr>\n",
              "    <tr>\n",
              "      <th>4</th>\n",
              "      <td>45</td>\n",
              "      <td>140</td>\n",
              "      <td>4.5</td>\n",
              "      <td>80</td>\n",
              "      <td>2.5100</td>\n",
              "      <td>1.690</td>\n",
              "    </tr>\n",
              "    <tr>\n",
              "      <th>8</th>\n",
              "      <td>45</td>\n",
              "      <td>140</td>\n",
              "      <td>8.0</td>\n",
              "      <td>80</td>\n",
              "      <td>1.9700</td>\n",
              "      <td>1.190</td>\n",
              "    </tr>\n",
              "    <tr>\n",
              "      <th>12</th>\n",
              "      <td>45</td>\n",
              "      <td>141</td>\n",
              "      <td>10.0</td>\n",
              "      <td>80</td>\n",
              "      <td>1.8600</td>\n",
              "      <td>1.010</td>\n",
              "    </tr>\n",
              "    <tr>\n",
              "      <th>16</th>\n",
              "      <td>46</td>\n",
              "      <td>141</td>\n",
              "      <td>10.0</td>\n",
              "      <td>80</td>\n",
              "      <td>1.8200</td>\n",
              "      <td>1.140</td>\n",
              "    </tr>\n",
              "    <tr>\n",
              "      <th>20</th>\n",
              "      <td>47</td>\n",
              "      <td>141</td>\n",
              "      <td>12.0</td>\n",
              "      <td>80</td>\n",
              "      <td>1.7275</td>\n",
              "      <td>1.120</td>\n",
              "    </tr>\n",
              "    <tr>\n",
              "      <th>24</th>\n",
              "      <td>47</td>\n",
              "      <td>134</td>\n",
              "      <td>10.0</td>\n",
              "      <td>110</td>\n",
              "      <td>1.9350</td>\n",
              "      <td>0.945</td>\n",
              "    </tr>\n",
              "    <tr>\n",
              "      <th>32</th>\n",
              "      <td>48</td>\n",
              "      <td>131</td>\n",
              "      <td>10.0</td>\n",
              "      <td>125</td>\n",
              "      <td>2.0700</td>\n",
              "      <td>0.845</td>\n",
              "    </tr>\n",
              "    <tr>\n",
              "      <th>36</th>\n",
              "      <td>49</td>\n",
              "      <td>132</td>\n",
              "      <td>8.0</td>\n",
              "      <td>125</td>\n",
              "      <td>2.2600</td>\n",
              "      <td>0.820</td>\n",
              "    </tr>\n",
              "    <tr>\n",
              "      <th>40</th>\n",
              "      <td>47</td>\n",
              "      <td>140</td>\n",
              "      <td>10.0</td>\n",
              "      <td>80</td>\n",
              "      <td>1.7900</td>\n",
              "      <td>1.160</td>\n",
              "    </tr>\n",
              "    <tr>\n",
              "      <th>44</th>\n",
              "      <td>46</td>\n",
              "      <td>146</td>\n",
              "      <td>10.0</td>\n",
              "      <td>60</td>\n",
              "      <td>1.7700</td>\n",
              "      <td>1.310</td>\n",
              "    </tr>\n",
              "    <tr>\n",
              "      <th>48</th>\n",
              "      <td>44</td>\n",
              "      <td>146</td>\n",
              "      <td>9.0</td>\n",
              "      <td>60</td>\n",
              "      <td>1.7950</td>\n",
              "      <td>1.230</td>\n",
              "    </tr>\n",
              "    <tr>\n",
              "      <th>52</th>\n",
              "      <td>43</td>\n",
              "      <td>150</td>\n",
              "      <td>9.0</td>\n",
              "      <td>50</td>\n",
              "      <td>1.8150</td>\n",
              "      <td>1.080</td>\n",
              "    </tr>\n",
              "    <tr>\n",
              "      <th>60</th>\n",
              "      <td>43</td>\n",
              "      <td>146</td>\n",
              "      <td>9.0</td>\n",
              "      <td>60</td>\n",
              "      <td>1.7650</td>\n",
              "      <td>1.220</td>\n",
              "    </tr>\n",
              "    <tr>\n",
              "      <th>68</th>\n",
              "      <td>45</td>\n",
              "      <td>146</td>\n",
              "      <td>9.0</td>\n",
              "      <td>60</td>\n",
              "      <td>1.7600</td>\n",
              "      <td>1.310</td>\n",
              "    </tr>\n",
              "  </tbody>\n",
              "</table>\n",
              "</div>\n",
              "      <button class=\"colab-df-convert\" onclick=\"convertToInteractive('df-45dd5092-8cd7-403b-9437-0edb7ebb1cb1')\"\n",
              "              title=\"Convert this dataframe to an interactive table.\"\n",
              "              style=\"display:none;\">\n",
              "        \n",
              "  <svg xmlns=\"http://www.w3.org/2000/svg\" height=\"24px\"viewBox=\"0 0 24 24\"\n",
              "       width=\"24px\">\n",
              "    <path d=\"M0 0h24v24H0V0z\" fill=\"none\"/>\n",
              "    <path d=\"M18.56 5.44l.94 2.06.94-2.06 2.06-.94-2.06-.94-.94-2.06-.94 2.06-2.06.94zm-11 1L8.5 8.5l.94-2.06 2.06-.94-2.06-.94L8.5 2.5l-.94 2.06-2.06.94zm10 10l.94 2.06.94-2.06 2.06-.94-2.06-.94-.94-2.06-.94 2.06-2.06.94z\"/><path d=\"M17.41 7.96l-1.37-1.37c-.4-.4-.92-.59-1.43-.59-.52 0-1.04.2-1.43.59L10.3 9.45l-7.72 7.72c-.78.78-.78 2.05 0 2.83L4 21.41c.39.39.9.59 1.41.59.51 0 1.02-.2 1.41-.59l7.78-7.78 2.81-2.81c.8-.78.8-2.07 0-2.86zM5.41 20L4 18.59l7.72-7.72 1.47 1.35L5.41 20z\"/>\n",
              "  </svg>\n",
              "      </button>\n",
              "      \n",
              "  <style>\n",
              "    .colab-df-container {\n",
              "      display:flex;\n",
              "      flex-wrap:wrap;\n",
              "      gap: 12px;\n",
              "    }\n",
              "\n",
              "    .colab-df-convert {\n",
              "      background-color: #E8F0FE;\n",
              "      border: none;\n",
              "      border-radius: 50%;\n",
              "      cursor: pointer;\n",
              "      display: none;\n",
              "      fill: #1967D2;\n",
              "      height: 32px;\n",
              "      padding: 0 0 0 0;\n",
              "      width: 32px;\n",
              "    }\n",
              "\n",
              "    .colab-df-convert:hover {\n",
              "      background-color: #E2EBFA;\n",
              "      box-shadow: 0px 1px 2px rgba(60, 64, 67, 0.3), 0px 1px 3px 1px rgba(60, 64, 67, 0.15);\n",
              "      fill: #174EA6;\n",
              "    }\n",
              "\n",
              "    [theme=dark] .colab-df-convert {\n",
              "      background-color: #3B4455;\n",
              "      fill: #D2E3FC;\n",
              "    }\n",
              "\n",
              "    [theme=dark] .colab-df-convert:hover {\n",
              "      background-color: #434B5C;\n",
              "      box-shadow: 0px 1px 3px 1px rgba(0, 0, 0, 0.15);\n",
              "      filter: drop-shadow(0px 1px 2px rgba(0, 0, 0, 0.3));\n",
              "      fill: #FFFFFF;\n",
              "    }\n",
              "  </style>\n",
              "\n",
              "      <script>\n",
              "        const buttonEl =\n",
              "          document.querySelector('#df-45dd5092-8cd7-403b-9437-0edb7ebb1cb1 button.colab-df-convert');\n",
              "        buttonEl.style.display =\n",
              "          google.colab.kernel.accessAllowed ? 'block' : 'none';\n",
              "\n",
              "        async function convertToInteractive(key) {\n",
              "          const element = document.querySelector('#df-45dd5092-8cd7-403b-9437-0edb7ebb1cb1');\n",
              "          const dataTable =\n",
              "            await google.colab.kernel.invokeFunction('convertToInteractive',\n",
              "                                                     [key], {});\n",
              "          if (!dataTable) return;\n",
              "\n",
              "          const docLinkHtml = 'Like what you see? Visit the ' +\n",
              "            '<a target=\"_blank\" href=https://colab.research.google.com/notebooks/data_table.ipynb>data table notebook</a>'\n",
              "            + ' to learn more about interactive tables.';\n",
              "          element.innerHTML = '';\n",
              "          dataTable['output_type'] = 'display_data';\n",
              "          await google.colab.output.renderOutput(dataTable, element);\n",
              "          const docLink = document.createElement('div');\n",
              "          docLink.innerHTML = docLinkHtml;\n",
              "          element.appendChild(docLink);\n",
              "        }\n",
              "      </script>\n",
              "    </div>\n",
              "  </div>\n",
              "  "
            ]
          },
          "metadata": {},
          "execution_count": 20
        }
      ]
    },
    {
      "cell_type": "markdown",
      "source": [
        "### Выводы\n",
        "В результате кластеризации получили 15 кластеров со средними значениями ширины и глубины сварного шва. Количество кластеров ппрактически соовтетствует количеству образцов, на которых проводили испытания. \n",
        "Поскольку кластеризация уменьшила количество данных, то продолжим работу по обучению на исходных данных."
      ],
      "metadata": {
        "id": "ftG0ujUmcNsT"
      }
    },
    {
      "cell_type": "markdown",
      "source": [
        "## EDA Анализ данных"
      ],
      "metadata": {
        "id": "rk7aYdXUKKWm"
      }
    },
    {
      "cell_type": "code",
      "source": [
        "data = pd.read_csv(path)"
      ],
      "metadata": {
        "id": "1rOm2Tt1f-Se"
      },
      "execution_count": null,
      "outputs": []
    },
    {
      "cell_type": "code",
      "source": [
        "data.describe()"
      ],
      "metadata": {
        "colab": {
          "base_uri": "https://localhost:8080/",
          "height": 300
        },
        "id": "6HwqjlSfVaWb",
        "outputId": "b21f725c-655b-4b1b-a569-c2b7680890a9"
      },
      "execution_count": null,
      "outputs": [
        {
          "output_type": "execute_result",
          "data": {
            "text/plain": [
              "              IW          IF         VW          FP      Depth      Width\n",
              "count  72.000000   72.000000  72.000000   72.000000  72.000000  72.000000\n",
              "mean   45.666667  141.333333   8.638889   78.333333   1.195556   1.970417\n",
              "std     1.678363    5.145763   2.061078   21.493530   0.225081   0.279040\n",
              "min    43.000000  131.000000   4.500000   50.000000   0.800000   1.680000\n",
              "25%    44.000000  139.000000   8.000000   60.000000   1.080000   1.760000\n",
              "50%    45.500000  141.000000   9.000000   80.000000   1.200000   1.840000\n",
              "75%    47.000000  146.000000  10.000000   80.000000   1.290000   2.050000\n",
              "max    49.000000  150.000000  12.000000  125.000000   1.760000   2.600000"
            ],
            "text/html": [
              "\n",
              "  <div id=\"df-75682772-e3e3-4b25-874a-9b177c3ab35f\">\n",
              "    <div class=\"colab-df-container\">\n",
              "      <div>\n",
              "<style scoped>\n",
              "    .dataframe tbody tr th:only-of-type {\n",
              "        vertical-align: middle;\n",
              "    }\n",
              "\n",
              "    .dataframe tbody tr th {\n",
              "        vertical-align: top;\n",
              "    }\n",
              "\n",
              "    .dataframe thead th {\n",
              "        text-align: right;\n",
              "    }\n",
              "</style>\n",
              "<table border=\"1\" class=\"dataframe\">\n",
              "  <thead>\n",
              "    <tr style=\"text-align: right;\">\n",
              "      <th></th>\n",
              "      <th>IW</th>\n",
              "      <th>IF</th>\n",
              "      <th>VW</th>\n",
              "      <th>FP</th>\n",
              "      <th>Depth</th>\n",
              "      <th>Width</th>\n",
              "    </tr>\n",
              "  </thead>\n",
              "  <tbody>\n",
              "    <tr>\n",
              "      <th>count</th>\n",
              "      <td>72.000000</td>\n",
              "      <td>72.000000</td>\n",
              "      <td>72.000000</td>\n",
              "      <td>72.000000</td>\n",
              "      <td>72.000000</td>\n",
              "      <td>72.000000</td>\n",
              "    </tr>\n",
              "    <tr>\n",
              "      <th>mean</th>\n",
              "      <td>45.666667</td>\n",
              "      <td>141.333333</td>\n",
              "      <td>8.638889</td>\n",
              "      <td>78.333333</td>\n",
              "      <td>1.195556</td>\n",
              "      <td>1.970417</td>\n",
              "    </tr>\n",
              "    <tr>\n",
              "      <th>std</th>\n",
              "      <td>1.678363</td>\n",
              "      <td>5.145763</td>\n",
              "      <td>2.061078</td>\n",
              "      <td>21.493530</td>\n",
              "      <td>0.225081</td>\n",
              "      <td>0.279040</td>\n",
              "    </tr>\n",
              "    <tr>\n",
              "      <th>min</th>\n",
              "      <td>43.000000</td>\n",
              "      <td>131.000000</td>\n",
              "      <td>4.500000</td>\n",
              "      <td>50.000000</td>\n",
              "      <td>0.800000</td>\n",
              "      <td>1.680000</td>\n",
              "    </tr>\n",
              "    <tr>\n",
              "      <th>25%</th>\n",
              "      <td>44.000000</td>\n",
              "      <td>139.000000</td>\n",
              "      <td>8.000000</td>\n",
              "      <td>60.000000</td>\n",
              "      <td>1.080000</td>\n",
              "      <td>1.760000</td>\n",
              "    </tr>\n",
              "    <tr>\n",
              "      <th>50%</th>\n",
              "      <td>45.500000</td>\n",
              "      <td>141.000000</td>\n",
              "      <td>9.000000</td>\n",
              "      <td>80.000000</td>\n",
              "      <td>1.200000</td>\n",
              "      <td>1.840000</td>\n",
              "    </tr>\n",
              "    <tr>\n",
              "      <th>75%</th>\n",
              "      <td>47.000000</td>\n",
              "      <td>146.000000</td>\n",
              "      <td>10.000000</td>\n",
              "      <td>80.000000</td>\n",
              "      <td>1.290000</td>\n",
              "      <td>2.050000</td>\n",
              "    </tr>\n",
              "    <tr>\n",
              "      <th>max</th>\n",
              "      <td>49.000000</td>\n",
              "      <td>150.000000</td>\n",
              "      <td>12.000000</td>\n",
              "      <td>125.000000</td>\n",
              "      <td>1.760000</td>\n",
              "      <td>2.600000</td>\n",
              "    </tr>\n",
              "  </tbody>\n",
              "</table>\n",
              "</div>\n",
              "      <button class=\"colab-df-convert\" onclick=\"convertToInteractive('df-75682772-e3e3-4b25-874a-9b177c3ab35f')\"\n",
              "              title=\"Convert this dataframe to an interactive table.\"\n",
              "              style=\"display:none;\">\n",
              "        \n",
              "  <svg xmlns=\"http://www.w3.org/2000/svg\" height=\"24px\"viewBox=\"0 0 24 24\"\n",
              "       width=\"24px\">\n",
              "    <path d=\"M0 0h24v24H0V0z\" fill=\"none\"/>\n",
              "    <path d=\"M18.56 5.44l.94 2.06.94-2.06 2.06-.94-2.06-.94-.94-2.06-.94 2.06-2.06.94zm-11 1L8.5 8.5l.94-2.06 2.06-.94-2.06-.94L8.5 2.5l-.94 2.06-2.06.94zm10 10l.94 2.06.94-2.06 2.06-.94-2.06-.94-.94-2.06-.94 2.06-2.06.94z\"/><path d=\"M17.41 7.96l-1.37-1.37c-.4-.4-.92-.59-1.43-.59-.52 0-1.04.2-1.43.59L10.3 9.45l-7.72 7.72c-.78.78-.78 2.05 0 2.83L4 21.41c.39.39.9.59 1.41.59.51 0 1.02-.2 1.41-.59l7.78-7.78 2.81-2.81c.8-.78.8-2.07 0-2.86zM5.41 20L4 18.59l7.72-7.72 1.47 1.35L5.41 20z\"/>\n",
              "  </svg>\n",
              "      </button>\n",
              "      \n",
              "  <style>\n",
              "    .colab-df-container {\n",
              "      display:flex;\n",
              "      flex-wrap:wrap;\n",
              "      gap: 12px;\n",
              "    }\n",
              "\n",
              "    .colab-df-convert {\n",
              "      background-color: #E8F0FE;\n",
              "      border: none;\n",
              "      border-radius: 50%;\n",
              "      cursor: pointer;\n",
              "      display: none;\n",
              "      fill: #1967D2;\n",
              "      height: 32px;\n",
              "      padding: 0 0 0 0;\n",
              "      width: 32px;\n",
              "    }\n",
              "\n",
              "    .colab-df-convert:hover {\n",
              "      background-color: #E2EBFA;\n",
              "      box-shadow: 0px 1px 2px rgba(60, 64, 67, 0.3), 0px 1px 3px 1px rgba(60, 64, 67, 0.15);\n",
              "      fill: #174EA6;\n",
              "    }\n",
              "\n",
              "    [theme=dark] .colab-df-convert {\n",
              "      background-color: #3B4455;\n",
              "      fill: #D2E3FC;\n",
              "    }\n",
              "\n",
              "    [theme=dark] .colab-df-convert:hover {\n",
              "      background-color: #434B5C;\n",
              "      box-shadow: 0px 1px 3px 1px rgba(0, 0, 0, 0.15);\n",
              "      filter: drop-shadow(0px 1px 2px rgba(0, 0, 0, 0.3));\n",
              "      fill: #FFFFFF;\n",
              "    }\n",
              "  </style>\n",
              "\n",
              "      <script>\n",
              "        const buttonEl =\n",
              "          document.querySelector('#df-75682772-e3e3-4b25-874a-9b177c3ab35f button.colab-df-convert');\n",
              "        buttonEl.style.display =\n",
              "          google.colab.kernel.accessAllowed ? 'block' : 'none';\n",
              "\n",
              "        async function convertToInteractive(key) {\n",
              "          const element = document.querySelector('#df-75682772-e3e3-4b25-874a-9b177c3ab35f');\n",
              "          const dataTable =\n",
              "            await google.colab.kernel.invokeFunction('convertToInteractive',\n",
              "                                                     [key], {});\n",
              "          if (!dataTable) return;\n",
              "\n",
              "          const docLinkHtml = 'Like what you see? Visit the ' +\n",
              "            '<a target=\"_blank\" href=https://colab.research.google.com/notebooks/data_table.ipynb>data table notebook</a>'\n",
              "            + ' to learn more about interactive tables.';\n",
              "          element.innerHTML = '';\n",
              "          dataTable['output_type'] = 'display_data';\n",
              "          await google.colab.output.renderOutput(dataTable, element);\n",
              "          const docLink = document.createElement('div');\n",
              "          docLink.innerHTML = docLinkHtml;\n",
              "          element.appendChild(docLink);\n",
              "        }\n",
              "      </script>\n",
              "    </div>\n",
              "  </div>\n",
              "  "
            ]
          },
          "metadata": {},
          "execution_count": 22
        }
      ]
    },
    {
      "cell_type": "markdown",
      "source": [
        "Минимальные значения ширины шва - 1.727, глубины 0.8. Посмотрим параметры про которых обеспечились данные значения."
      ],
      "metadata": {
        "id": "hZEOVgzrVqV6"
      }
    },
    {
      "cell_type": "code",
      "source": [
        "#посмотрим на каких значениях обеспечивались минимальные размеры сварных швов\n",
        "data[(data['Depth']<=0.8300) | (data['Width']<=1.73)]"
      ],
      "metadata": {
        "colab": {
          "base_uri": "https://localhost:8080/",
          "height": 363
        },
        "id": "kMLug4yB2RWz",
        "outputId": "6783fd97-58e7-452f-8ea4-e6a7108f874b"
      },
      "execution_count": null,
      "outputs": [
        {
          "output_type": "execute_result",
          "data": {
            "text/plain": [
              "    IW   IF    VW   FP  Depth  Width\n",
              "20  47  141  12.0   80   1.12   1.71\n",
              "21  47  141  12.0   80   1.08   1.68\n",
              "23  47  141  12.0   80   1.08   1.72\n",
              "35  48  131  10.0  125   0.80   2.04\n",
              "38  49  132   8.0  125   0.80   2.24\n",
              "39  49  132   8.0  125   0.80   2.28\n",
              "62  43  146   9.0   60   1.20   1.72\n",
              "65  44  146   9.0   60   1.20   1.68\n",
              "66  44  146   9.0   60   1.24   1.72\n",
              "67  44  146   9.0   60   1.20   1.72"
            ],
            "text/html": [
              "\n",
              "  <div id=\"df-67c2f609-a18a-451f-b094-e11a16be5f9c\">\n",
              "    <div class=\"colab-df-container\">\n",
              "      <div>\n",
              "<style scoped>\n",
              "    .dataframe tbody tr th:only-of-type {\n",
              "        vertical-align: middle;\n",
              "    }\n",
              "\n",
              "    .dataframe tbody tr th {\n",
              "        vertical-align: top;\n",
              "    }\n",
              "\n",
              "    .dataframe thead th {\n",
              "        text-align: right;\n",
              "    }\n",
              "</style>\n",
              "<table border=\"1\" class=\"dataframe\">\n",
              "  <thead>\n",
              "    <tr style=\"text-align: right;\">\n",
              "      <th></th>\n",
              "      <th>IW</th>\n",
              "      <th>IF</th>\n",
              "      <th>VW</th>\n",
              "      <th>FP</th>\n",
              "      <th>Depth</th>\n",
              "      <th>Width</th>\n",
              "    </tr>\n",
              "  </thead>\n",
              "  <tbody>\n",
              "    <tr>\n",
              "      <th>20</th>\n",
              "      <td>47</td>\n",
              "      <td>141</td>\n",
              "      <td>12.0</td>\n",
              "      <td>80</td>\n",
              "      <td>1.12</td>\n",
              "      <td>1.71</td>\n",
              "    </tr>\n",
              "    <tr>\n",
              "      <th>21</th>\n",
              "      <td>47</td>\n",
              "      <td>141</td>\n",
              "      <td>12.0</td>\n",
              "      <td>80</td>\n",
              "      <td>1.08</td>\n",
              "      <td>1.68</td>\n",
              "    </tr>\n",
              "    <tr>\n",
              "      <th>23</th>\n",
              "      <td>47</td>\n",
              "      <td>141</td>\n",
              "      <td>12.0</td>\n",
              "      <td>80</td>\n",
              "      <td>1.08</td>\n",
              "      <td>1.72</td>\n",
              "    </tr>\n",
              "    <tr>\n",
              "      <th>35</th>\n",
              "      <td>48</td>\n",
              "      <td>131</td>\n",
              "      <td>10.0</td>\n",
              "      <td>125</td>\n",
              "      <td>0.80</td>\n",
              "      <td>2.04</td>\n",
              "    </tr>\n",
              "    <tr>\n",
              "      <th>38</th>\n",
              "      <td>49</td>\n",
              "      <td>132</td>\n",
              "      <td>8.0</td>\n",
              "      <td>125</td>\n",
              "      <td>0.80</td>\n",
              "      <td>2.24</td>\n",
              "    </tr>\n",
              "    <tr>\n",
              "      <th>39</th>\n",
              "      <td>49</td>\n",
              "      <td>132</td>\n",
              "      <td>8.0</td>\n",
              "      <td>125</td>\n",
              "      <td>0.80</td>\n",
              "      <td>2.28</td>\n",
              "    </tr>\n",
              "    <tr>\n",
              "      <th>62</th>\n",
              "      <td>43</td>\n",
              "      <td>146</td>\n",
              "      <td>9.0</td>\n",
              "      <td>60</td>\n",
              "      <td>1.20</td>\n",
              "      <td>1.72</td>\n",
              "    </tr>\n",
              "    <tr>\n",
              "      <th>65</th>\n",
              "      <td>44</td>\n",
              "      <td>146</td>\n",
              "      <td>9.0</td>\n",
              "      <td>60</td>\n",
              "      <td>1.20</td>\n",
              "      <td>1.68</td>\n",
              "    </tr>\n",
              "    <tr>\n",
              "      <th>66</th>\n",
              "      <td>44</td>\n",
              "      <td>146</td>\n",
              "      <td>9.0</td>\n",
              "      <td>60</td>\n",
              "      <td>1.24</td>\n",
              "      <td>1.72</td>\n",
              "    </tr>\n",
              "    <tr>\n",
              "      <th>67</th>\n",
              "      <td>44</td>\n",
              "      <td>146</td>\n",
              "      <td>9.0</td>\n",
              "      <td>60</td>\n",
              "      <td>1.20</td>\n",
              "      <td>1.72</td>\n",
              "    </tr>\n",
              "  </tbody>\n",
              "</table>\n",
              "</div>\n",
              "      <button class=\"colab-df-convert\" onclick=\"convertToInteractive('df-67c2f609-a18a-451f-b094-e11a16be5f9c')\"\n",
              "              title=\"Convert this dataframe to an interactive table.\"\n",
              "              style=\"display:none;\">\n",
              "        \n",
              "  <svg xmlns=\"http://www.w3.org/2000/svg\" height=\"24px\"viewBox=\"0 0 24 24\"\n",
              "       width=\"24px\">\n",
              "    <path d=\"M0 0h24v24H0V0z\" fill=\"none\"/>\n",
              "    <path d=\"M18.56 5.44l.94 2.06.94-2.06 2.06-.94-2.06-.94-.94-2.06-.94 2.06-2.06.94zm-11 1L8.5 8.5l.94-2.06 2.06-.94-2.06-.94L8.5 2.5l-.94 2.06-2.06.94zm10 10l.94 2.06.94-2.06 2.06-.94-2.06-.94-.94-2.06-.94 2.06-2.06.94z\"/><path d=\"M17.41 7.96l-1.37-1.37c-.4-.4-.92-.59-1.43-.59-.52 0-1.04.2-1.43.59L10.3 9.45l-7.72 7.72c-.78.78-.78 2.05 0 2.83L4 21.41c.39.39.9.59 1.41.59.51 0 1.02-.2 1.41-.59l7.78-7.78 2.81-2.81c.8-.78.8-2.07 0-2.86zM5.41 20L4 18.59l7.72-7.72 1.47 1.35L5.41 20z\"/>\n",
              "  </svg>\n",
              "      </button>\n",
              "      \n",
              "  <style>\n",
              "    .colab-df-container {\n",
              "      display:flex;\n",
              "      flex-wrap:wrap;\n",
              "      gap: 12px;\n",
              "    }\n",
              "\n",
              "    .colab-df-convert {\n",
              "      background-color: #E8F0FE;\n",
              "      border: none;\n",
              "      border-radius: 50%;\n",
              "      cursor: pointer;\n",
              "      display: none;\n",
              "      fill: #1967D2;\n",
              "      height: 32px;\n",
              "      padding: 0 0 0 0;\n",
              "      width: 32px;\n",
              "    }\n",
              "\n",
              "    .colab-df-convert:hover {\n",
              "      background-color: #E2EBFA;\n",
              "      box-shadow: 0px 1px 2px rgba(60, 64, 67, 0.3), 0px 1px 3px 1px rgba(60, 64, 67, 0.15);\n",
              "      fill: #174EA6;\n",
              "    }\n",
              "\n",
              "    [theme=dark] .colab-df-convert {\n",
              "      background-color: #3B4455;\n",
              "      fill: #D2E3FC;\n",
              "    }\n",
              "\n",
              "    [theme=dark] .colab-df-convert:hover {\n",
              "      background-color: #434B5C;\n",
              "      box-shadow: 0px 1px 3px 1px rgba(0, 0, 0, 0.15);\n",
              "      filter: drop-shadow(0px 1px 2px rgba(0, 0, 0, 0.3));\n",
              "      fill: #FFFFFF;\n",
              "    }\n",
              "  </style>\n",
              "\n",
              "      <script>\n",
              "        const buttonEl =\n",
              "          document.querySelector('#df-67c2f609-a18a-451f-b094-e11a16be5f9c button.colab-df-convert');\n",
              "        buttonEl.style.display =\n",
              "          google.colab.kernel.accessAllowed ? 'block' : 'none';\n",
              "\n",
              "        async function convertToInteractive(key) {\n",
              "          const element = document.querySelector('#df-67c2f609-a18a-451f-b094-e11a16be5f9c');\n",
              "          const dataTable =\n",
              "            await google.colab.kernel.invokeFunction('convertToInteractive',\n",
              "                                                     [key], {});\n",
              "          if (!dataTable) return;\n",
              "\n",
              "          const docLinkHtml = 'Like what you see? Visit the ' +\n",
              "            '<a target=\"_blank\" href=https://colab.research.google.com/notebooks/data_table.ipynb>data table notebook</a>'\n",
              "            + ' to learn more about interactive tables.';\n",
              "          element.innerHTML = '';\n",
              "          dataTable['output_type'] = 'display_data';\n",
              "          await google.colab.output.renderOutput(dataTable, element);\n",
              "          const docLink = document.createElement('div');\n",
              "          docLink.innerHTML = docLinkHtml;\n",
              "          element.appendChild(docLink);\n",
              "        }\n",
              "      </script>\n",
              "    </div>\n",
              "  </div>\n",
              "  "
            ]
          },
          "metadata": {},
          "execution_count": 23
        }
      ]
    },
    {
      "cell_type": "code",
      "source": [
        "#посмотрим корелляцию признаков и целевых переменных\n",
        "sns.heatmap(data.corr(),cmap = 'viridis',annot =data.corr())"
      ],
      "metadata": {
        "colab": {
          "base_uri": "https://localhost:8080/",
          "height": 286
        },
        "id": "9tPqiiEU5STm",
        "outputId": "fc5a4ad0-2968-41f7-a39d-157a0af98342"
      },
      "execution_count": null,
      "outputs": [
        {
          "output_type": "execute_result",
          "data": {
            "text/plain": [
              "<matplotlib.axes._subplots.AxesSubplot at 0x7fed1ce6d4c0>"
            ]
          },
          "metadata": {},
          "execution_count": 24
        },
        {
          "output_type": "display_data",
          "data": {
            "text/plain": [
              "<Figure size 432x288 with 2 Axes>"
            ],
            "image/png": "[encoded data removed]"
          },
          "metadata": {}
        }
      ]
    },
    {
      "cell_type": "markdown",
      "source": [
        "Видим отрицательную корелляцию между признаками IF и FP."
      ],
      "metadata": {
        "id": "pNH0_aNH6-A2"
      }
    },
    {
      "cell_type": "code",
      "source": [
        "#посмотрим график зависимости IF от FP\n",
        "sns.lmplot (data = data, x = 'IF', y = 'FP', scatter_kws={'color':'0.2'},line_kws={'color':'blue'})"
      ],
      "metadata": {
        "colab": {
          "base_uri": "https://localhost:8080/",
          "height": 386
        },
        "id": "38G7TtP17Me7",
        "outputId": "9ac7c1a1-7b16-427f-e634-6d1deec5a87f"
      },
      "execution_count": null,
      "outputs": [
        {
          "output_type": "execute_result",
          "data": {
            "text/plain": [
              "<seaborn.axisgrid.FacetGrid at 0x7fed19be5580>"
            ]
          },
          "metadata": {},
          "execution_count": 25
        },
        {
          "output_type": "display_data",
          "data": {
            "text/plain": [
              "<Figure size 360x360 with 1 Axes>"
            ],
            "image/png": "[encoded data removed]"
          },
          "metadata": {}
        }
      ]
    },
    {
      "cell_type": "markdown",
      "source": [
        "###Одномерный анализ"
      ],
      "metadata": {
        "id": "eyA8rtMRVWE8"
      }
    },
    {
      "cell_type": "code",
      "source": [
        "#построим график распределения Mean Width\n",
        "sns.displot(x=data['Width'], kde = True)\n",
        "description = data['Width'].describe()\n",
        "plt.axvline(description['25%'], ls=\"--\", color = 'r')\n",
        "plt.axvline(description['mean'], ls=\"--\", color = 'r')\n",
        "plt.axvline(description['75%'], ls=\"--\", color = 'r')\n",
        "plt.show()"
      ],
      "metadata": {
        "colab": {
          "base_uri": "https://localhost:8080/",
          "height": 369
        },
        "id": "pKfIYas_V6Q0",
        "outputId": "f60ba310-b19a-4eb1-b540-878afd4fe5d1"
      },
      "execution_count": null,
      "outputs": [
        {
          "output_type": "display_data",
          "data": {
            "text/plain": [
              "<Figure size 360x360 with 1 Axes>"
            ],
            "image/png": "[encoded data removed]"
          },
          "metadata": {}
        }
      ]
    },
    {
      "cell_type": "code",
      "source": [
        "#построим график распределения Depth\n",
        "sns.displot(x=data['Depth'], kde = True)\n",
        "description = data['Depth'].describe()\n",
        "plt.axvline(description['25%'], ls=\"--\", color = 'r')\n",
        "plt.axvline(description['mean'], ls=\"--\", color = 'r')\n",
        "plt.axvline(description['75%'], ls=\"--\", color = 'r')\n",
        "plt.show()"
      ],
      "metadata": {
        "colab": {
          "base_uri": "https://localhost:8080/",
          "height": 369
        },
        "id": "pQMMsATiW1gA",
        "outputId": "0e9e3c8e-34b8-4bef-e42d-fb05f9482e06"
      },
      "execution_count": null,
      "outputs": [
        {
          "output_type": "display_data",
          "data": {
            "text/plain": [
              "<Figure size 360x360 with 1 Axes>"
            ],
            "image/png": "[encoded data removed]"
          },
          "metadata": {}
        }
      ]
    },
    {
      "cell_type": "code",
      "source": [
        "sns.boxplot(data['Width'], showmeans = True, color = 'purple')"
      ],
      "metadata": {
        "colab": {
          "base_uri": "https://localhost:8080/",
          "height": 296
        },
        "id": "4Y8Q_myE34HL",
        "outputId": "58902617-91c8-4879-c4fa-9de2eb1167c9"
      },
      "execution_count": null,
      "outputs": [
        {
          "output_type": "execute_result",
          "data": {
            "text/plain": [
              "<matplotlib.axes._subplots.AxesSubplot at 0x7fed196351f0>"
            ]
          },
          "metadata": {},
          "execution_count": 28
        },
        {
          "output_type": "display_data",
          "data": {
            "text/plain": [
              "<Figure size 432x288 with 1 Axes>"
            ],
            "image/png": "[encoded data removed]"
          },
          "metadata": {}
        }
      ]
    },
    {
      "cell_type": "code",
      "source": [
        "sns.boxplot(data['Depth'], showmeans = True, color = 'blue')"
      ],
      "metadata": {
        "colab": {
          "base_uri": "https://localhost:8080/",
          "height": 296
        },
        "id": "AkndfNxNdHbi",
        "outputId": "7b6a3f25-0813-40b7-f286-2ab4790b263b"
      },
      "execution_count": null,
      "outputs": [
        {
          "output_type": "execute_result",
          "data": {
            "text/plain": [
              "<matplotlib.axes._subplots.AxesSubplot at 0x7fed1959d1c0>"
            ]
          },
          "metadata": {},
          "execution_count": 29
        },
        {
          "output_type": "display_data",
          "data": {
            "text/plain": [
              "<Figure size 432x288 with 1 Axes>"
            ],
            "image/png": "[encoded data removed]"
          },
          "metadata": {}
        }
      ]
    },
    {
      "cell_type": "markdown",
      "source": [
        "###Двумерный анализ"
      ],
      "metadata": {
        "id": "R8kja4FlhsCP"
      }
    },
    {
      "cell_type": "code",
      "source": [
        "#визуализируем зависимости Width\n",
        "y1 = 'Width'\n",
        "fig, ((ax1,ax2),(ax3,ax4)) = plt.subplots(nrows=2,ncols=2, figsize=(10,10))\n",
        "sns.regplot (data = data, x = 'IW', y = y1, x_jitter=0.05, scatter_kws={'color':'0.3'},line_kws={'color':'blue'},ax = ax1)\n",
        "ax1.set(title=f'Зависимость {y1} от IW')\n",
        "sns.regplot (data = data, x = 'IF', y = y1, x_jitter=0.05, scatter_kws={'color':'0.3'},line_kws={'color':'blue'},ax = ax2)\n",
        "ax2.set(title=f'Зависимость {y1}  от IF')\n",
        "sns.regplot (data = data, x = 'VW', y = y1, x_jitter=0.05, scatter_kws={'color':'0.3'},line_kws={'color':'blue'},ax = ax3)\n",
        "ax3.set(title=f'Зависимость {y1}  от VW')\n",
        "sns.regplot (data = data, x = 'FP', y = y1, x_jitter=0.05, scatter_kws={'color':'0.3'},line_kws={'color':'blue'},ax = ax4)\n",
        "ax4.set(title=f'Зависимость {y1}  от FP')"
      ],
      "metadata": {
        "colab": {
          "base_uri": "https://localhost:8080/",
          "height": 638
        },
        "id": "9vdNyoJKol5Q",
        "outputId": "4a801c3a-f0b1-45a9-8063-12de19e1cd8f"
      },
      "execution_count": null,
      "outputs": [
        {
          "output_type": "execute_result",
          "data": {
            "text/plain": [
              "[Text(0.5, 1.0, 'Зависимость Width  от FP')]"
            ]
          },
          "metadata": {},
          "execution_count": 30
        },
        {
          "output_type": "display_data",
          "data": {
            "text/plain": [
              "<Figure size 720x720 with 4 Axes>"
            ],
            "image/png": "[encoded data removed]"
          },
          "metadata": {}
        }
      ]
    },
    {
      "cell_type": "code",
      "source": [
        "#визуализируем зависимости Depth\n",
        "y1 = 'Depth'\n",
        "fig, ((ax1,ax2),(ax3,ax4)) = plt.subplots(nrows=2,ncols=2, figsize=(10,10))\n",
        "sns.regplot (data = data, x = 'IW', y = y1, x_jitter=0.05, scatter_kws={'color':'0.3'},line_kws={'color':'blue'},ax = ax1)\n",
        "ax1.set(title=f'Зависимость {y1} от IW')\n",
        "sns.regplot (data = data, x = 'IF', y = y1, x_jitter=0.05, scatter_kws={'color':'0.3'},line_kws={'color':'blue'},ax = ax2)\n",
        "ax2.set(title=f'Зависимость {y1}  от IF')\n",
        "sns.regplot (data = data, x = 'VW', y = y1, x_jitter=0.05, scatter_kws={'color':'0.3'},line_kws={'color':'blue'},ax = ax3)\n",
        "ax3.set(title=f'Зависимость {y1}  от VW')\n",
        "sns.regplot (data = data, x = 'FP', y = y1, x_jitter=0.05, scatter_kws={'color':'0.3'},line_kws={'color':'blue'},ax = ax4)\n",
        "ax4.set(title=f'Зависимость {y1}  от FP')"
      ],
      "metadata": {
        "colab": {
          "base_uri": "https://localhost:8080/",
          "height": 638
        },
        "id": "hRpPfK0NA2vp",
        "outputId": "05213463-07b7-42f4-a54f-e239d2caa095"
      },
      "execution_count": null,
      "outputs": [
        {
          "output_type": "execute_result",
          "data": {
            "text/plain": [
              "[Text(0.5, 1.0, 'Зависимость Depth  от FP')]"
            ]
          },
          "metadata": {},
          "execution_count": 31
        },
        {
          "output_type": "display_data",
          "data": {
            "text/plain": [
              "<Figure size 720x720 with 4 Axes>"
            ],
            "image/png": "[encoded data removed]"
          },
          "metadata": {}
        }
      ]
    },
    {
      "cell_type": "markdown",
      "source": [
        "###Мультианализ"
      ],
      "metadata": {
        "id": "FvWEDh7Y42J_"
      }
    },
    {
      "cell_type": "code",
      "source": [
        "cols_list = np.array(data.columns[:4])\n",
        "cols_list = cols_list.reshape(2,2)"
      ],
      "metadata": {
        "id": "XbelYRZ2-lOk"
      },
      "execution_count": null,
      "outputs": []
    },
    {
      "cell_type": "code",
      "source": [
        "fig, axes = plt.subplots(2,2, figsize=(10,10), sharex=False, sharey=False)\n",
        "for i in range(len(cols_list[0])):\n",
        "  for j in range(len(cols_list[0][0])):\n",
        "    sns.scatterplot(ax=axes[i,j], x='Width', y = 'Depth', data = data,hue = cols_list[i,j], edgecolor = 'black', palette = 'inferno')\n",
        "    axes[i,j].set_title(f'Зависимость Depth и Width от {cols_list[i,j]}')\n"
      ],
      "metadata": {
        "colab": {
          "base_uri": "https://localhost:8080/",
          "height": 621
        },
        "id": "K6w9HLXi-poL",
        "outputId": "a67e60af-ad70-43eb-fe16-84bdaef8f12a"
      },
      "execution_count": null,
      "outputs": [
        {
          "output_type": "display_data",
          "data": {
            "text/plain": [
              "<Figure size 720x720 with 4 Axes>"
            ],
            "image/png": "[encoded data removed]"
          },
          "metadata": {}
        }
      ]
    },
    {
      "cell_type": "markdown",
      "source": [
        "###Выводы\n",
        "У параметров IF, FP обнаружена отрицательная корелляция (0.98). Корелляция может влиять на качество машинного обучения. \n",
        "В результате EDA были построены графики зависимости целевых переменных  и признаков. На основе графиков можно сделать вывод о линейной зависимости целевой переменной и признаков."
      ],
      "metadata": {
        "id": "CQvAxL0CA3qT"
      }
    },
    {
      "cell_type": "markdown",
      "source": [
        "В качестве исходных данных у нас имеется небольшой датасет с 72 наборами. \n",
        "Задача которую будем решать в данной работе - предсказание значений, т.е перед нами стоит задача регрессии. Для такого типа задач используют следующие алгоритмы машинного обучения:\n",
        "\n",
        "\n",
        "*   Linear Regression\n",
        "*   k Nearest Neighbors Regression\n",
        "*   Gradient Boosting Regression\n",
        "*   RandomForestRegressor\n",
        "*   Нейронные сети\n",
        "\n"
      ],
      "metadata": {
        "id": "Pes_5FEdXa4k"
      }
    },
    {
      "cell_type": "markdown",
      "source": [
        "##Создаем обучающую и тестовую выборки (для Linear Regression, KNNregression)"
      ],
      "metadata": {
        "id": "Te4Fo22ScubO"
      }
    },
    {
      "cell_type": "code",
      "source": [
        "#создадим функцию для записи результатов обучения алгоритмов ML\n",
        "MAPE=[] #ошибка MAPE\n",
        "MSE=[] #ошибка MSE\n",
        "MAE=[] #ошибка MAE\n",
        "R2=[] #коэффициент детерминации\n",
        "PARAMS=[] #лучшие параметры алгоритма\n",
        "SCORE=[] #лучшее значение \n",
        "MODEL = [] #название алгоритма\n",
        "PKL_FILE = [] #путь к файлу PKL\n",
        "#функция записывающая значения качества предсказаний алгоритма\n",
        "def add_quality_scores (predictions, model_name, algo):\n",
        "  MODEL.append(algo) #записываем название алгоритма\n",
        "  PARAMS.append(model_name.best_params_)\n",
        "  SCORE.append(model_name.best_score_.round(3))\n",
        "  MAPE.append(mean_absolute_percentage_error(y_test, predictions).round(3))\n",
        "  MSE.append(mean_squared_error(y_test, predictions).round(3))\n",
        "  MAE.append(mean_absolute_error(y_test, predictions).round(3))\n",
        "  R2.append(r2_score(y_test, predictions).round(3))\n",
        "  output_pkl_file = \"\".join([algo, '_model.pkl']) #название файла для записи pkl модели\n",
        "  pickle.dump(model_name, open(output_pkl_file, 'wb')) #записываем в файл\n",
        "  PKL_FILE.append(output_pkl_file)\n",
        "  return"
      ],
      "metadata": {
        "id": "nY7aLrzN1FMO"
      },
      "execution_count": null,
      "outputs": []
    },
    {
      "cell_type": "code",
      "source": [
        "#запишем данные в переменные X - технологические параметры, y - ширина и глубина шва\n",
        "X = data[['IW','IF','VW','FP']]\n",
        "y = data[['Width', 'Depth']]"
      ],
      "metadata": {
        "id": "ony5GOh_j1Wp"
      },
      "execution_count": null,
      "outputs": []
    },
    {
      "cell_type": "code",
      "source": [
        "#разделим данные X, y\n",
        "X_train, X_test, y_train, y_test = train_test_split(X,y,\n",
        "                                                    test_size = 0.2,\n",
        "                                                    shuffle = True,\n",
        "                                                    random_state = 42)"
      ],
      "metadata": {
        "id": "A-fvxamzcW8z"
      },
      "execution_count": null,
      "outputs": []
    },
    {
      "cell_type": "code",
      "source": [
        "#проверяем размерности\n",
        "print(X_train.shape)\n",
        "print(y_train.shape)\n",
        "print(X_test.shape)\n",
        "print(y_test.shape)"
      ],
      "metadata": {
        "colab": {
          "base_uri": "https://localhost:8080/"
        },
        "id": "_uKqe-uWcuAS",
        "outputId": "1a561a39-fd81-47ca-fc31-506c74ff3408"
      },
      "execution_count": null,
      "outputs": [
        {
          "output_type": "stream",
          "name": "stdout",
          "text": [
            "(57, 4)\n",
            "(57, 2)\n",
            "(15, 4)\n",
            "(15, 2)\n"
          ]
        }
      ]
    },
    {
      "cell_type": "markdown",
      "source": [
        "### Linear Regression"
      ],
      "metadata": {
        "id": "Pw1xvQfieY_5"
      }
    },
    {
      "cell_type": "code",
      "source": [
        "lr = LinearRegression()\n",
        "#подбор гиперпараметров методом сетки\n",
        "#задаем параметры сетки\n",
        "param_grid = {'normalize':[True, False]}\n",
        "\n",
        "#инициализация сетки\n",
        "\n",
        "lr_grid = GridSearchCV(lr, \n",
        "                       param_grid=param_grid, \n",
        "                       cv = 5)\n",
        "\n",
        "#обучение сетки\n",
        "lr_grid.fit(X_train, y_train)\n",
        "lr_y_pred = lr_grid.predict(X_test)\n",
        "add_quality_scores(lr_y_pred,lr_grid,'LinearRegression')"
      ],
      "metadata": {
        "id": "ZESpgvIDdcYa"
      },
      "execution_count": null,
      "outputs": []
    },
    {
      "cell_type": "markdown",
      "source": [
        "###K Nearest Neighbors"
      ],
      "metadata": {
        "id": "w95DiC1eGbXh"
      }
    },
    {
      "cell_type": "code",
      "source": [
        "kNNr = KNeighborsRegressor()\n",
        "\n",
        "param_grid = {'n_neighbors':[1,2,3,4,6,8,20]}\n",
        "kNNr_grid = GridSearchCV(kNNr,\n",
        "                         param_grid = param_grid,\n",
        "                         cv = 5)\n",
        "kNNr_grid.fit(X_train, y_train)\n",
        "kNNr_y_pred = kNNr_grid.predict(X_test)\n",
        "add_quality_scores(kNNr_y_pred,kNNr_grid,'kNNregression')"
      ],
      "metadata": {
        "id": "TEolzyvoGhEt"
      },
      "execution_count": null,
      "outputs": []
    },
    {
      "cell_type": "markdown",
      "source": [
        "##Создаем обучающую и тестовую выборки (для GB Regressor, Random Forest Regressor)"
      ],
      "metadata": {
        "id": "eNgnjgyRHMMK"
      }
    },
    {
      "cell_type": "code",
      "source": [
        "X = data[['IW','IF','VW','FP']]\n",
        "y1 = data['Width']\n",
        "y2 = data['Depth']"
      ],
      "metadata": {
        "id": "-8RwQx7VCW_D"
      },
      "execution_count": null,
      "outputs": []
    },
    {
      "cell_type": "code",
      "source": [
        "#данные для обучения по целевой переменной width\n",
        "X1_train, X1_test, y1_train, y1_test = train_test_split(X,y1,\n",
        "                                                    test_size = 0.2,\n",
        "                                                    shuffle = True,\n",
        "                                                    random_state = 42)\n",
        "#данные для обучения по целевой переменной depth\n",
        "X2_train, X2_test, y2_train, y2_test = train_test_split(X,y2,\n",
        "                                                    test_size = 0.2,\n",
        "                                                    shuffle = True,\n",
        "                                                    random_state = 42)"
      ],
      "metadata": {
        "id": "qd_uC3u_CRw8"
      },
      "execution_count": null,
      "outputs": []
    },
    {
      "cell_type": "markdown",
      "source": [
        "###GB Regressor"
      ],
      "metadata": {
        "id": "klvYngScHje2"
      }
    },
    {
      "cell_type": "code",
      "source": [
        "gbr = GradientBoostingRegressor()\n",
        "\n",
        "param_grid = {'n_estimators':[1,5,10,20,50,100],\n",
        "              'max_depth':[3,4,5,8],\n",
        "              'learning_rate': [0.1, 0.5,1]}\n",
        "\n",
        "gbr_grid = GridSearchCV(gbr,\n",
        "                         param_grid = param_grid,\n",
        "                         cv = 5, )\n",
        "gbr_grid.fit(X1_train, y1_train)\n",
        "gbr_y_width_pred = gbr_grid.predict(X1_test)\n",
        "y_test = y1_test\n",
        "add_quality_scores(gbr_y_width_pred,gbr_grid, 'GBR for Width')\n",
        "\n",
        "gbr_grid.fit(X2_train, y2_train)\n",
        "gbr_y_depth_pred = gbr_grid.predict(X2_test)\n",
        "y_test = y2_test\n",
        "add_quality_scores(gbr_y_depth_pred,gbr_grid, 'GBR for Depth')"
      ],
      "metadata": {
        "id": "Y1yau0dYHiJI"
      },
      "execution_count": null,
      "outputs": []
    },
    {
      "cell_type": "markdown",
      "source": [
        "###RandomForestRegressor"
      ],
      "metadata": {
        "id": "_QE8ptcpbFC2"
      }
    },
    {
      "cell_type": "code",
      "source": [
        "randFr = RandomForestRegressor()\n",
        "\n",
        "param_grid = {'n_estimators':[1,5,10,20,50,100],\n",
        "              'max_depth':[3,4,5,8]}\n",
        "randFr_grid = GridSearchCV(randFr,\n",
        "                         param_grid = param_grid,\n",
        "                         cv = 5)\n",
        "randFr_grid.fit(X1_train, y1_train)\n",
        "randFr_y_width_pred = randFr_grid.predict(X1_test)\n",
        "y_test = y1_test\n",
        "add_quality_scores(randFr_y_width_pred,randFr_grid,'Random Forest Regression for Width')\n",
        "\n",
        "randFr_grid.fit(X2_train, y2_train)\n",
        "randFr_y_depth_pred = randFr_grid.predict(X2_test)\n",
        "y_test = y2_test\n",
        "add_quality_scores(randFr_y_depth_pred,randFr_grid,'Random Forest Regression for Depth')"
      ],
      "metadata": {
        "id": "GAOci9B_bLw4"
      },
      "execution_count": null,
      "outputs": []
    },
    {
      "cell_type": "markdown",
      "source": [
        "##Сравнительная таблица результатов ML"
      ],
      "metadata": {
        "id": "DdG_TbxqMAvI"
      }
    },
    {
      "cell_type": "code",
      "source": [
        "quality_score_table = pd.DataFrame({'MODEL': MODEL, 'PKL_FILE' : PKL_FILE, 'BEST PARAMS':PARAMS, 'BEST SCORE':SCORE, 'MAPE':MAPE, 'MSE':MSE, 'MAE':MAE, 'R2':R2})\n",
        "pd.set_option('max_colwidth', 100)\n",
        "quality_score_table"
      ],
      "metadata": {
        "colab": {
          "base_uri": "https://localhost:8080/",
          "height": 403
        },
        "id": "_JO2nlLPf6TR",
        "outputId": "253e808a-b720-4fe9-988f-f157994e7102"
      },
      "execution_count": null,
      "outputs": [
        {
          "output_type": "execute_result",
          "data": {
            "text/plain": [
              "                                MODEL  \\\n",
              "0                    LinearRegression   \n",
              "1                       kNNregression   \n",
              "2                       GBR for Width   \n",
              "3                       GBR for Depth   \n",
              "4  Random Forest Regression for Width   \n",
              "5  Random Forest Regression for Depth   \n",
              "\n",
              "                                       PKL_FILE  \\\n",
              "0                    LinearRegression_model.pkl   \n",
              "1                       kNNregression_model.pkl   \n",
              "2                       GBR for Width_model.pkl   \n",
              "3                       GBR for Depth_model.pkl   \n",
              "4  Random Forest Regression for Width_model.pkl   \n",
              "5  Random Forest Regression for Depth_model.pkl   \n",
              "\n",
              "                                                  BEST PARAMS  BEST SCORE  \\\n",
              "0                                        {'normalize': False}       0.857   \n",
              "1                                          {'n_neighbors': 2}       0.906   \n",
              "2  {'learning_rate': 0.1, 'max_depth': 3, 'n_estimators': 50}       0.951   \n",
              "3     {'learning_rate': 1, 'max_depth': 5, 'n_estimators': 1}       0.877   \n",
              "4                        {'max_depth': 4, 'n_estimators': 20}       0.944   \n",
              "5                        {'max_depth': 5, 'n_estimators': 20}       0.867   \n",
              "\n",
              "    MAPE    MSE    MAE     R2  \n",
              "0  0.052  0.012  0.078  0.796  \n",
              "1  0.030  0.004  0.046  0.945  \n",
              "2  0.017  0.002  0.034  0.983  \n",
              "3  0.049  0.007  0.065  0.882  \n",
              "4  0.025  0.004  0.050  0.963  \n",
              "5  0.056  0.010  0.076  0.831  "
            ],
            "text/html": [
              "\n",
              "  <div id=\"df-329e75d5-2b42-4b0d-80c7-853aa4aefc81\">\n",
              "    <div class=\"colab-df-container\">\n",
              "      <div>\n",
              "<style scoped>\n",
              "    .dataframe tbody tr th:only-of-type {\n",
              "        vertical-align: middle;\n",
              "    }\n",
              "\n",
              "    .dataframe tbody tr th {\n",
              "        vertical-align: top;\n",
              "    }\n",
              "\n",
              "    .dataframe thead th {\n",
              "        text-align: right;\n",
              "    }\n",
              "</style>\n",
              "<table border=\"1\" class=\"dataframe\">\n",
              "  <thead>\n",
              "    <tr style=\"text-align: right;\">\n",
              "      <th></th>\n",
              "      <th>MODEL</th>\n",
              "      <th>PKL_FILE</th>\n",
              "      <th>BEST PARAMS</th>\n",
              "      <th>BEST SCORE</th>\n",
              "      <th>MAPE</th>\n",
              "      <th>MSE</th>\n",
              "      <th>MAE</th>\n",
              "      <th>R2</th>\n",
              "    </tr>\n",
              "  </thead>\n",
              "  <tbody>\n",
              "    <tr>\n",
              "      <th>0</th>\n",
              "      <td>LinearRegression</td>\n",
              "      <td>LinearRegression_model.pkl</td>\n",
              "      <td>{'normalize': False}</td>\n",
              "      <td>0.857</td>\n",
              "      <td>0.052</td>\n",
              "      <td>0.012</td>\n",
              "      <td>0.078</td>\n",
              "      <td>0.796</td>\n",
              "    </tr>\n",
              "    <tr>\n",
              "      <th>1</th>\n",
              "      <td>kNNregression</td>\n",
              "      <td>kNNregression_model.pkl</td>\n",
              "      <td>{'n_neighbors': 2}</td>\n",
              "      <td>0.906</td>\n",
              "      <td>0.030</td>\n",
              "      <td>0.004</td>\n",
              "      <td>0.046</td>\n",
              "      <td>0.945</td>\n",
              "    </tr>\n",
              "    <tr>\n",
              "      <th>2</th>\n",
              "      <td>GBR for Width</td>\n",
              "      <td>GBR for Width_model.pkl</td>\n",
              "      <td>{'learning_rate': 0.1, 'max_depth': 3, 'n_estimators': 50}</td>\n",
              "      <td>0.951</td>\n",
              "      <td>0.017</td>\n",
              "      <td>0.002</td>\n",
              "      <td>0.034</td>\n",
              "      <td>0.983</td>\n",
              "    </tr>\n",
              "    <tr>\n",
              "      <th>3</th>\n",
              "      <td>GBR for Depth</td>\n",
              "      <td>GBR for Depth_model.pkl</td>\n",
              "      <td>{'learning_rate': 1, 'max_depth': 5, 'n_estimators': 1}</td>\n",
              "      <td>0.877</td>\n",
              "      <td>0.049</td>\n",
              "      <td>0.007</td>\n",
              "      <td>0.065</td>\n",
              "      <td>0.882</td>\n",
              "    </tr>\n",
              "    <tr>\n",
              "      <th>4</th>\n",
              "      <td>Random Forest Regression for Width</td>\n",
              "      <td>Random Forest Regression for Width_model.pkl</td>\n",
              "      <td>{'max_depth': 4, 'n_estimators': 20}</td>\n",
              "      <td>0.944</td>\n",
              "      <td>0.025</td>\n",
              "      <td>0.004</td>\n",
              "      <td>0.050</td>\n",
              "      <td>0.963</td>\n",
              "    </tr>\n",
              "    <tr>\n",
              "      <th>5</th>\n",
              "      <td>Random Forest Regression for Depth</td>\n",
              "      <td>Random Forest Regression for Depth_model.pkl</td>\n",
              "      <td>{'max_depth': 5, 'n_estimators': 20}</td>\n",
              "      <td>0.867</td>\n",
              "      <td>0.056</td>\n",
              "      <td>0.010</td>\n",
              "      <td>0.076</td>\n",
              "      <td>0.831</td>\n",
              "    </tr>\n",
              "  </tbody>\n",
              "</table>\n",
              "</div>\n",
              "      <button class=\"colab-df-convert\" onclick=\"convertToInteractive('df-329e75d5-2b42-4b0d-80c7-853aa4aefc81')\"\n",
              "              title=\"Convert this dataframe to an interactive table.\"\n",
              "              style=\"display:none;\">\n",
              "        \n",
              "  <svg xmlns=\"http://www.w3.org/2000/svg\" height=\"24px\"viewBox=\"0 0 24 24\"\n",
              "       width=\"24px\">\n",
              "    <path d=\"M0 0h24v24H0V0z\" fill=\"none\"/>\n",
              "    <path d=\"M18.56 5.44l.94 2.06.94-2.06 2.06-.94-2.06-.94-.94-2.06-.94 2.06-2.06.94zm-11 1L8.5 8.5l.94-2.06 2.06-.94-2.06-.94L8.5 2.5l-.94 2.06-2.06.94zm10 10l.94 2.06.94-2.06 2.06-.94-2.06-.94-.94-2.06-.94 2.06-2.06.94z\"/><path d=\"M17.41 7.96l-1.37-1.37c-.4-.4-.92-.59-1.43-.59-.52 0-1.04.2-1.43.59L10.3 9.45l-7.72 7.72c-.78.78-.78 2.05 0 2.83L4 21.41c.39.39.9.59 1.41.59.51 0 1.02-.2 1.41-.59l7.78-7.78 2.81-2.81c.8-.78.8-2.07 0-2.86zM5.41 20L4 18.59l7.72-7.72 1.47 1.35L5.41 20z\"/>\n",
              "  </svg>\n",
              "      </button>\n",
              "      \n",
              "  <style>\n",
              "    .colab-df-container {\n",
              "      display:flex;\n",
              "      flex-wrap:wrap;\n",
              "      gap: 12px;\n",
              "    }\n",
              "\n",
              "    .colab-df-convert {\n",
              "      background-color: #E8F0FE;\n",
              "      border: none;\n",
              "      border-radius: 50%;\n",
              "      cursor: pointer;\n",
              "      display: none;\n",
              "      fill: #1967D2;\n",
              "      height: 32px;\n",
              "      padding: 0 0 0 0;\n",
              "      width: 32px;\n",
              "    }\n",
              "\n",
              "    .colab-df-convert:hover {\n",
              "      background-color: #E2EBFA;\n",
              "      box-shadow: 0px 1px 2px rgba(60, 64, 67, 0.3), 0px 1px 3px 1px rgba(60, 64, 67, 0.15);\n",
              "      fill: #174EA6;\n",
              "    }\n",
              "\n",
              "    [theme=dark] .colab-df-convert {\n",
              "      background-color: #3B4455;\n",
              "      fill: #D2E3FC;\n",
              "    }\n",
              "\n",
              "    [theme=dark] .colab-df-convert:hover {\n",
              "      background-color: #434B5C;\n",
              "      box-shadow: 0px 1px 3px 1px rgba(0, 0, 0, 0.15);\n",
              "      filter: drop-shadow(0px 1px 2px rgba(0, 0, 0, 0.3));\n",
              "      fill: #FFFFFF;\n",
              "    }\n",
              "  </style>\n",
              "\n",
              "      <script>\n",
              "        const buttonEl =\n",
              "          document.querySelector('#df-329e75d5-2b42-4b0d-80c7-853aa4aefc81 button.colab-df-convert');\n",
              "        buttonEl.style.display =\n",
              "          google.colab.kernel.accessAllowed ? 'block' : 'none';\n",
              "\n",
              "        async function convertToInteractive(key) {\n",
              "          const element = document.querySelector('#df-329e75d5-2b42-4b0d-80c7-853aa4aefc81');\n",
              "          const dataTable =\n",
              "            await google.colab.kernel.invokeFunction('convertToInteractive',\n",
              "                                                     [key], {});\n",
              "          if (!dataTable) return;\n",
              "\n",
              "          const docLinkHtml = 'Like what you see? Visit the ' +\n",
              "            '<a target=\"_blank\" href=https://colab.research.google.com/notebooks/data_table.ipynb>data table notebook</a>'\n",
              "            + ' to learn more about interactive tables.';\n",
              "          element.innerHTML = '';\n",
              "          dataTable['output_type'] = 'display_data';\n",
              "          await google.colab.output.renderOutput(dataTable, element);\n",
              "          const docLink = document.createElement('div');\n",
              "          docLink.innerHTML = docLinkHtml;\n",
              "          element.appendChild(docLink);\n",
              "        }\n",
              "      </script>\n",
              "    </div>\n",
              "  </div>\n",
              "  "
            ]
          },
          "metadata": {},
          "execution_count": 85
        }
      ]
    },
    {
      "cell_type": "markdown",
      "source": [
        "###Выводы\n",
        "Проанализируем таблицу с полученными данными. Наилучшие результаты показала модель GBR на прогнозировании ширины сварного шва. Ошибка MAPE 0.017, MSE = 0.002, MAE = 0.034.\n",
        "На втором месте по результатам показывает модель основанная kNNregression. "
      ],
      "metadata": {
        "id": "l-zhMYI_QF22"
      }
    },
    {
      "cell_type": "markdown",
      "source": [
        "##Загрузим модель из сохраненного pkl файла"
      ],
      "metadata": {
        "id": "Qz206zYNMwZE"
      }
    },
    {
      "cell_type": "code",
      "source": [
        "best_model = 'kNNregression_model.pkl' #путь к pkl файлу лучшей модели"
      ],
      "metadata": {
        "id": "cvX4PX_4ggLQ"
      },
      "execution_count": null,
      "outputs": []
    },
    {
      "cell_type": "code",
      "source": [
        "#загрузим лучшую модель\n",
        "load_model = pickle.load(open(best_model, 'rb'))"
      ],
      "metadata": {
        "id": "Nc_ctnAMcvju"
      },
      "execution_count": null,
      "outputs": []
    },
    {
      "cell_type": "markdown",
      "source": [
        "##Проверка модели на реальных данных"
      ],
      "metadata": {
        "id": "FMXcqnwdjw4Q"
      }
    },
    {
      "cell_type": "markdown",
      "source": [
        "Проверим как модель работает на реальных данных и предсказывает ширину и глубину шва. Для этого создадим форму, куда будем вводить данные. Предсказанные значения будем выводить через Print. "
      ],
      "metadata": {
        "id": "JOzTsYcwT-iS"
      }
    },
    {
      "cell_type": "code",
      "source": [
        "input_params = ['IW','IF','VW','FP'] #список с названиями параметров сварки\n",
        "params = [] #пустой список для записи введенных значений \n",
        "#введем поочередно значения переменных через форму ввода input\n",
        "for i in range(len(input_params)):\n",
        "  input_data = float(input(f'Введите значение параметра {input_params[i]}: '))\n",
        "  params.append(input_data)\n",
        "params = np.array(params).reshape(1,4)\n",
        "\n",
        "#спрогнозируем ширину и глубину сварного шва с помощью загруженной модели\n",
        "pred_width = load_model.predict(params)[0,0]\n",
        "pred_depth = load_model.predict(params)[0,1]\n",
        "#выведем прогнозные значения сварного шва\n",
        "print(f'Прогнозируемое значение ширины сварного шва: {pred_width} мм')\n",
        "print(f'Прогнозируемое значение глубины сварного шва: {pred_depth} мм')"
      ],
      "metadata": {
        "colab": {
          "base_uri": "https://localhost:8080/"
        },
        "id": "soKaB6obhqE0",
        "outputId": "766cbc44-7ae7-4d1c-f2cb-d39ddea34693"
      },
      "execution_count": null,
      "outputs": [
        {
          "output_type": "stream",
          "name": "stdout",
          "text": [
            "Введите значение параметра IW: 47\n",
            "Введите значение параметра IF: 139\n",
            "Введите значение параметра VW: 4.5\n",
            "Введите значение параметра FP: 80\n",
            "Прогнозируемое значение ширины сварного шва: 2.5 мм\n",
            "Прогнозируемое значение глубины сварного шва: 1.49 мм\n"
          ]
        }
      ]
    },
    {
      "cell_type": "markdown",
      "source": [
        "###Выводы и заключения\n",
        "* Проведен EDA исходных данных\n",
        "* Проведена кластеризация данных для группировки данных по образцам\n",
        "* Созданы 4 модели машинного обучения предсказания значений ширины и глубины сварного шва (Linear Regression, KNearestRegression, GBRegressor, RandomForestRegressor)\n",
        "* Подбор гиперпараметров моделей произведен при помощи метода сетки (gridsearch)\n",
        "* Оптимальные параметры и качество обученных моделей выведены в табличный вид\n",
        "* Модели с лучшими параметрами записаны в файлы pkl\n",
        "* Написан код для прогнозирования значений сварного шва по введенным технологическим параметрам (раздел \"Проверка модели на реальных данных\")\n"
      ],
      "metadata": {
        "id": "WHwtvQfLmkqP"
      }
    }
  ]
}